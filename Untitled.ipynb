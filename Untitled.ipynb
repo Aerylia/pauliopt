{
 "cells": [
  {
   "cell_type": "code",
   "execution_count": 160,
   "id": "3969e9de",
   "metadata": {},
   "outputs": [],
   "source": [
    "import matplotlib.pyplot as plt\n",
    "import numpy as np\n",
    "import sympy\n",
    "import pytket\n",
    "from pytket.utils.symbolic import circuit_to_symbolic_unitary, circuit_apply_symbolic_statevector"
   ]
  },
  {
   "cell_type": "code",
   "execution_count": 259,
   "id": "9b497baf",
   "metadata": {},
   "outputs": [
    {
     "data": {
      "text/latex": [
       "$\\displaystyle - 0.707106781186547 \\sin{\\left(\\frac{\\pi y}{2} \\right)} \\cos{\\left(\\frac{\\pi x}{2} \\right)} - 0.707106781186548 i \\sin{\\left(\\frac{\\pi y}{2} \\right)} \\cos{\\left(\\frac{\\pi x}{2} \\right)}$"
      ],
      "text/plain": [
       "-0.707106781186547*sin(pi*y/2)*cos(pi*x/2) - 0.707106781186548*I*sin(pi*y/2)*cos(pi*x/2)"
      ]
     },
     "metadata": {},
     "output_type": "display_data"
    },
    {
     "data": {
      "text/latex": [
       "$\\displaystyle \\begin{cases} 2 x y + 3 x + 2 y & \\text{for}\\: 2 x y + 3 x + 2 y > 0 \\\\0.06 x y + 0.09 x + 0.06 y & \\text{otherwise} \\end{cases}$"
      ],
      "text/plain": [
       "Piecewise((2*x*y + 3*x + 2*y, 2*x*y + 3*x + 2*y > 0), (0.06*x*y + 0.09*x + 0.06*y, True))"
      ]
     },
     "metadata": {},
     "output_type": "display_data"
    }
   ],
   "source": [
    "relu = lambda x: sympy.Piecewise((x, x > 0), (0.03*x, True))\n",
    "sigmoid = lambda x: 1 / (1 + sympy.exp(-x))\n",
    "x, y = sympy.symbols('x y', real=True)\n",
    "\n",
    "circ = pytket.Circuit(2)\n",
    "circ.Rz(0.3, 0)\n",
    "circ.Rz(0.2, 0)\n",
    "circ.Ry(x, 0)\n",
    "circ.Rx(y, 1)\n",
    "circ.CX(0, 1)\n",
    "circ.CX(1, 0)\n",
    "\n",
    "U = circuit_apply_symbolic_statevector(circ)\n",
    "\n",
    "state_0 = sympy.Matrix([1, 0, 0, 0])\n",
    "measure = U[-1]\n",
    "display(measure)\n",
    "measure = relu(3*x+2*y+2*x*y)\n",
    "display(measure)"
   ]
  },
  {
   "cell_type": "code",
   "execution_count": 263,
   "id": "8788b3a6",
   "metadata": {},
   "outputs": [
    {
     "data": {
      "text/latex": [
       "$\\displaystyle \\begin{cases} 2 y + 3 & \\text{for}\\: 2 x y + 3 x + 2 y > 0 \\\\0.06 y + 0.09 & \\text{otherwise} \\end{cases}$"
      ],
      "text/plain": [
       "Piecewise((2*y + 3, 2*x*y + 3*x + 2*y > 0), (0.06*y + 0.09, True))"
      ]
     },
     "metadata": {},
     "output_type": "display_data"
    }
   ],
   "source": [
    "diff = sympy.diff(measure, x)\n",
    "display(diff)\n",
    "\n",
    "func = sympy.lambdify((x, y), measure, modules='numpy')\n",
    "g_func = sympy.lambdify((x, y), diff, modules='numpy')"
   ]
  },
  {
   "cell_type": "code",
   "execution_count": 261,
   "id": "3a95c4d2",
   "metadata": {},
   "outputs": [],
   "source": [
    "def get_diff_values(diff, func):\n",
    "    diff_values = np.zeros((80, 80))\n",
    "    for x_idx, x_val in enumerate(np.linspace(0, 1.0, 80)):\n",
    "        for y_idx, y_val in enumerate(np.linspace(0, 1.0, 80)):\n",
    "                \n",
    "            diff_values[x_idx, y_idx] = diff(x_val, y_val)\n",
    "            #else\n",
    "            #    diff_values[x_idx, y_idx] = diff(x_val, y_val).real\n",
    "\n",
    "    return diff_values"
   ]
  },
  {
   "cell_type": "code",
   "execution_count": 262,
   "id": "625875ae",
   "metadata": {},
   "outputs": [
    {
     "data": {
      "text/plain": [
       "<matplotlib.colorbar.Colorbar at 0x7fb360e797c0>"
      ]
     },
     "execution_count": 262,
     "metadata": {},
     "output_type": "execute_result"
    },
    {
     "data": {
      "image/png": "[encoded data removed]",
      "text/plain": [
       "<Figure size 480x480 with 2 Axes>"
      ]
     },
     "metadata": {},
     "output_type": "display_data"
    }
   ],
   "source": [
    "plt.matshow(get_diff_values(g_func, func))\n",
    "plt.colorbar()"
   ]
  },
  {
   "cell_type": "code",
   "execution_count": null,
   "id": "abf93de5",
   "metadata": {},
   "outputs": [],
   "source": []
  }
 ],
 "metadata": {
  "kernelspec": {
   "display_name": "Python 3 (ipykernel)",
   "language": "python",
   "name": "python3"
  },
  "language_info": {
   "codemirror_mode": {
    "name": "ipython",
    "version": 3
   },
   "file_extension": ".py",
   "mimetype": "text/x-python",
   "name": "python",
   "nbconvert_exporter": "python",
   "pygments_lexer": "ipython3",
   "version": "3.9.16"
  }
 },
 "nbformat": 4,
 "nbformat_minor": 5
}

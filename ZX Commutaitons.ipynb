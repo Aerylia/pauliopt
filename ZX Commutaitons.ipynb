{
 "cells": [
  {
   "cell_type": "code",
   "execution_count": 2,
   "id": "2baa6112",
   "metadata": {},
   "outputs": [],
   "source": [
    "import numpy as np"
   ]
  },
  {
   "cell_type": "code",
   "execution_count": 44,
   "id": "c3b35c67",
   "metadata": {},
   "outputs": [],
   "source": [
    "X = np.asarray([[0, 1], [1, 0]])\n",
    "Y = np.asarray([[0, -1j], [1j, 0]])\n",
    "Z = np.asarray([[1, 0], [0, -1]])\n",
    "I = np.asarray([[1, 0], [0, 1]])\n",
    "\n",
    "S = np.asarray([[1, 0], [0, 1.j]])\n",
    "CX = np.asarray([[1, 0, 0, 0],\n",
    "                 [0, 1, 0, 0],\n",
    "                 [0, 0, 0, 1],\n",
    "                 [0, 0, 1, 0]])\n",
    "CY = np.array([[1, 0, 0, 0],\n",
    "               [0, 1, 0, 0],\n",
    "               [0, 0, 0, -1.j],\n",
    "               [0, 0, 1.j, 0]])\n",
    "\n",
    "CZ = np.array([[1, 0, 0, 0],\n",
    "               [0, 1, 0, 0],\n",
    "               [0, 0, 1, 0],\n",
    "               [0, 0, 0, -1]])"
   ]
  },
  {
   "cell_type": "code",
   "execution_count": 39,
   "id": "115891cc",
   "metadata": {},
   "outputs": [
    {
     "name": "stdout",
     "output_type": "stream",
     "text": [
      "XI =>  1.0 XX\n",
      "YI =>  1.0 YX\n",
      "ZI =>  1.0 ZI\n",
      "IX =>  1.0 IX\n",
      "IY =>  1.0 ZY\n",
      "IZ =>  1.0 ZZ\n",
      "ZX =>  1.0 ZX\n",
      "XZ => -1.0 YY\n",
      "XY =>  1.0 YZ\n"
     ]
    }
   ],
   "source": [
    "def get_output_xz(mat_1):\n",
    "    for x_0_name, x_0 in zip([\"X\", \"Z\", \"I\", \"Y\"], [X, Z, I, Y]):\n",
    "        for x_1_name, x_1 in zip([\"X\", \"Z\", \"I\", \"Y\"], [X, Z, I, Y]):\n",
    "            for phase in [-1.0, 1.0, 1.j, -1.j]:\n",
    "                    mat_2 = phase*np.kron(x_0, x_1)\n",
    "                    if np.allclose(mat_1, mat_2):\n",
    "                        return (phase, x_0_name, x_1_name)\n",
    "    return (None, None, None)\n",
    "    \n",
    "\n",
    "def pauli_from_name(name):\n",
    "    if name == \"X\":\n",
    "        return X\n",
    "    elif name == \"Y\":\n",
    "        return Y\n",
    "    elif name == \"Z\":\n",
    "        return Z\n",
    "    elif name == \"I\":\n",
    "        return I\n",
    "    else:\n",
    "        raise Exception(\"Unknown Name\")\n",
    "\n",
    "relevant_legs = [\n",
    "                 (\"X\", \"I\"), (\"Y\", \"I\"), (\"Z\", \"I\"), \n",
    "                 (\"I\", \"X\"), (\"I\", \"Y\"), (\"I\", \"Z\"),\n",
    "                 (\"Z\", \"X\"), (\"X\", \"Z\"), (\"X\", \"Y\")\n",
    "                ]\n",
    "\n",
    "for x_0, x_1 in relevant_legs:\n",
    "    x_0_mat = pauli_from_name(x_0)\n",
    "    x_1_mat = pauli_from_name(x_1)\n",
    "    p_mat = CX@np.kron(x_0_mat, x_1_mat)@CX.conj().T\n",
    "    phase, x_0_out, x_1_out = get_output_xz(p_mat)\n",
    "    pad = 4- len(str(phase))\n",
    "    pad = \" \".join([\" \" for _ in range(pad)])\n",
    "    print(f\"{x_0}{x_1} => {pad}{phase} {x_0_out}{x_1_out}\")"
   ]
  },
  {
   "cell_type": "code",
   "execution_count": 43,
   "id": "b0bcbe21",
   "metadata": {},
   "outputs": [
    {
     "name": "stdout",
     "output_type": "stream",
     "text": [
      "IZ =>  1.0 ZZ\n",
      "IX =>  1.0 ZX\n",
      "IY =>  1.0 IY\n",
      "ZI =>  1.0 ZI\n",
      "XI =>  1.0 XY\n",
      "YI =>  1.0 YY\n",
      "XZ =>  1.0 YX\n",
      "YZ => -1.0 XX\n",
      "ZY =>  1.0 ZY\n"
     ]
    }
   ],
   "source": [
    "relevant_legs = [\n",
    "                 (\"I\", \"Z\"), (\"I\", \"X\"), (\"I\", \"Y\"),\n",
    "                 (\"Z\", \"I\"), (\"X\", \"I\"), (\"Y\", \"I\"), \n",
    "                 (\"X\", \"Z\"), (\"Y\", \"Z\"), (\"Z\", \"Y\")\n",
    "                ]\n",
    "\n",
    "for x_0, x_1 in relevant_legs:\n",
    "    x_0_mat = pauli_from_name(x_0)\n",
    "    x_1_mat = pauli_from_name(x_1)\n",
    "    p_mat = CY@np.kron(x_0_mat, x_1_mat)@CY.conj().T\n",
    "    phase, x_0_out, x_1_out = get_output_xz(p_mat)\n",
    "    pad = 4- len(str(phase))\n",
    "    pad = \" \".join([\" \" for _ in range(pad)])\n",
    "    print(f\"{x_0}{x_1} => {pad}{phase} {x_0_out}{x_1_out}\")"
   ]
  },
  {
   "cell_type": "code",
   "execution_count": 50,
   "id": "1cb96649",
   "metadata": {},
   "outputs": [
    {
     "name": "stdout",
     "output_type": "stream",
     "text": [
      "IZ =>  1.0 IZ\n",
      "IX =>  1.0 ZX\n",
      "IY =>  1.0 ZY\n",
      "ZI =>  1.0 ZI\n",
      "XI =>  1.0 XZ\n",
      "YI =>  1.0 YZ\n",
      "ZZ =>  1.0 ZZ\n",
      "XY => -1.0 YX\n",
      "XX =>  1.0 YY\n"
     ]
    }
   ],
   "source": [
    "relevant_legs = [\n",
    "                 (\"I\", \"Z\"), (\"I\", \"X\"), (\"I\", \"Y\"),\n",
    "                 (\"Z\", \"I\"), (\"X\", \"I\"), (\"Y\", \"I\"), \n",
    "                 (\"Z\", \"Z\"), (\"X\", \"Y\"), (\"X\", \"X\")\n",
    "                ]\n",
    "\n",
    "for x_0, x_1 in relevant_legs:\n",
    "    x_0_mat = pauli_from_name(x_0)\n",
    "    x_1_mat = pauli_from_name(x_1)\n",
    "    p_mat = CZ@np.kron(x_0_mat, x_1_mat)@CZ.conj().T\n",
    "    phase, x_0_out, x_1_out = get_output_xz(p_mat)\n",
    "    pad = 4- len(str(phase))\n",
    "    pad = \" \".join([\" \" for _ in range(pad)])\n",
    "    print(f\"{x_0}{x_1} => {pad}{phase} {x_0_out}{x_1_out}\")"
   ]
  },
  {
   "cell_type": "code",
   "execution_count": 35,
   "id": "edaa038f",
   "metadata": {},
   "outputs": [
    {
     "name": "stdout",
     "output_type": "stream",
     "text": [
      "I_0Z_1X_1 => NoneNone_0None_1\n",
      "I_0Z_1I_1 => NoneNone_0None_1\n",
      "I_0I_1X_1 => NoneNone_0None_1\n",
      "I_0I_1I_1 => NoneNone_0None_1\n"
     ]
    }
   ],
   "source": [
    "for x_0_name, x_0 in zip([\"Z\", \"I\"], [Z, I]):\n",
    "    for x_1_name, x_1 in zip([\"X\", \"I\"], [X, I]):\n",
    "            mat_1 = np.linalg.inv(CX) @ np.kron(I, x_0 @ x_1) @ CX\n",
    "            if x_0_name == \"Z\" and x_1_name == \"X\":\n",
    "                mat_1 = mat_1*1.j\n",
    "            phase, x_0_out, x_1_out = get_output_xz(mat_1)\n",
    "            print(f\"I_0{x_0_name}_1{x_1_name}_1 => {phase}{x_0_out}_0{x_1_out}_1\")"
   ]
  },
  {
   "cell_type": "code",
   "execution_count": 24,
   "id": "c7d55bf9",
   "metadata": {},
   "outputs": [
    {
     "name": "stdout",
     "output_type": "stream",
     "text": [
      "XI => 1j*XZ\n",
      "XZ => (-0-1j)*XZ\n",
      "II => (-0-1j)*XZ\n",
      "IZ => 1j*XZ\n"
     ]
    }
   ],
   "source": [
    "def get_output_xz(mat_1):\n",
    "    for x_0_name, x_0 in zip([\"X\", \"Z\", \"I\", \"Y\"], [X, Z, I, Y]):\n",
    "            for phase in [-1.0, 1.0, 1.j, -1.j]:\n",
    "                    mat_2 = phase*x_0\n",
    "                    if np.allclose(mat_1, mat_2):\n",
    "                        if x_0_name == \"Y\":\n",
    "                            x_0_name = \"XZ\"\n",
    "                        return (phase, x_0_name)\n",
    "    return (None, None)\n",
    "\n",
    "for x_0_name, x_0 in zip([\"X\", \"I\"], [X, I]):\n",
    "    for x_1_name, x_1 in zip([\"I\", \"Z\"], [I, Z]):\n",
    "        mat_1 = np.linalg.inv(x_0@x_1)@(X@Z)@x_0@x_1\n",
    "        phase, x_out_0 = get_output_xz(mat_1)\n",
    "        print(f\"{x_0_name}{x_1_name} => {phase}*{x_out_0}\")\n",
    "        "
   ]
  },
  {
   "cell_type": "code",
   "execution_count": 34,
   "id": "0206e236",
   "metadata": {},
   "outputs": [
    {
     "name": "stdout",
     "output_type": "stream",
     "text": [
      "X => -1.0*Y\n",
      "Y => 1.0*X\n",
      "Z => 1.0*Z\n",
      "I => 1.0*I\n"
     ]
    }
   ],
   "source": [
    "def get_output_xz(mat_1):\n",
    "    for x_0_name, x_0 in zip([\"X\", \"Y\", \"Z\", \"I\"], [X, Y, Z, I]):\n",
    "        for phase in [-1.0, 1.0, -1.j, 1.j]:\n",
    "            mat_2 = phase*x_0\n",
    "            if np.allclose(mat_1, mat_2):\n",
    "                return (phase, x_0_name)\n",
    "    return (None, None)\n",
    "\n",
    "for x_0_name, x_0 in zip([\"X\", \"Y\", \"Z\", \"I\"], [X, Y, Z, I]):\n",
    "        mat_1 = S.conj().T@x_0@S\n",
    "        phase, x_out_0 = get_output_xz(mat_1)\n",
    "        print(f\"{x_0_name} => {phase}*{x_out_0}\")"
   ]
  },
  {
   "cell_type": "code",
   "execution_count": null,
   "id": "d8bfd503",
   "metadata": {},
   "outputs": [],
   "source": []
  }
 ],
 "metadata": {
  "kernelspec": {
   "display_name": "Python 3 (ipykernel)",
   "language": "python",
   "name": "python3"
  },
  "language_info": {
   "codemirror_mode": {
    "name": "ipython",
    "version": 3
   },
   "file_extension": ".py",
   "mimetype": "text/x-python",
   "name": "python",
   "nbconvert_exporter": "python",
   "pygments_lexer": "ipython3",
   "version": "3.9.16"
  }
 },
 "nbformat": 4,
 "nbformat_minor": 5
}

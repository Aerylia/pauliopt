{
 "cells": [
  {
   "cell_type": "code",
   "execution_count": 1,
   "id": "2baa6112",
   "metadata": {},
   "outputs": [],
   "source": [
    "import numpy as np"
   ]
  },
  {
   "cell_type": "code",
   "execution_count": 2,
   "id": "c3b35c67",
   "metadata": {},
   "outputs": [
    {
     "name": "stdout",
     "output_type": "stream",
     "text": [
      "True\n"
     ]
    }
   ],
   "source": [
    "X = np.asarray([[0, 1], [1, 0]])\n",
    "Y = np.asarray([[0, -1j], [1j, 0]])\n",
    "Z = np.asarray([[1, 0], [0, -1]])\n",
    "I = np.asarray([[1, 0], [0, 1]])\n",
    "\n",
    "S = np.asarray([[1, 0], [0, 1.j]])\n",
    "CX = np.asarray([[1, 0, 0, 0],\n",
    "                 [0, 1, 0, 0],\n",
    "                 [0, 0, 0, 1],\n",
    "                 [0, 0, 1, 0]])\n",
    "print(np.allclose(Y, 1.j*X@Z))"
   ]
  },
  {
   "cell_type": "code",
   "execution_count": 3,
   "id": "115891cc",
   "metadata": {},
   "outputs": [
    {
     "name": "stdout",
     "output_type": "stream",
     "text": [
      "=\n",
      "ZX_0I_1 => (-0-1j)ZX_0X_1\n",
      "ZI_0I_1 => 1.0Z_0I_1\n",
      "IX_0I_1 => 1.0X_0X_1\n",
      "II_0I_1 => 1.0I_0I_1\n"
     ]
    }
   ],
   "source": [
    "def get_output_xz(mat_1):\n",
    "    for x_0_name, x_0 in zip([\"X\", \"Z\", \"I\", \"Y\"], [X, Z, I, Y]):\n",
    "        for x_1_name, x_1 in zip([\"X\", \"Z\", \"I\", \"Y\"], [X, Z, I, Y]):\n",
    "            for phase in [-1.0, 1.0, 1.j, -1.j]:\n",
    "                    mat_2 = phase*np.kron(x_0, x_1)\n",
    "                    if np.allclose(mat_1, mat_2):\n",
    "                        if x_0_name == \"Y\":\n",
    "                            x_0_name = \"ZX\"\n",
    "                            phase = phase *1.j\n",
    "                        if x_1_name == \"Y\":\n",
    "                            x_1_name = \"ZX\"\n",
    "                            phase = phase *1.j\n",
    "                        \n",
    "                        return (phase, x_0_name, x_1_name)\n",
    "    return (None, None, None)\n",
    "    \n",
    "print(\"=\")\n",
    "for x_0_name, x_0 in zip([\"Z\", \"I\"], [Z, I]):\n",
    "    for x_1_name, x_1 in zip([\"X\", \"I\"], [X, I]):\n",
    "            mat_1 = np.linalg.inv(CX) @ np.kron(x_0 @ x_1, I) @ CX\n",
    "            if x_0_name == \"Z\" and x_1_name == \"X\":\n",
    "                mat_1 = mat_1*1.j\n",
    "            phase, x_0_out, x_1_out = get_output_xz(mat_1)\n",
    "            print(f\"{x_0_name}{x_1_name}_0I_1 => {phase}{x_0_out}_0{x_1_out}_1\")\n",
    "        "
   ]
  },
  {
   "cell_type": "code",
   "execution_count": 49,
   "id": "edaa038f",
   "metadata": {},
   "outputs": [
    {
     "name": "stdout",
     "output_type": "stream",
     "text": [
      "I_0Z_1X_1 => (-0-1j)Z_0ZX_1\n",
      "I_0Z_1I_1 => 1.0Z_0Z_1\n",
      "I_0I_1X_1 => 1.0I_0X_1\n",
      "I_0I_1I_1 => 1.0I_0I_1\n"
     ]
    }
   ],
   "source": [
    "for x_0_name, x_0 in zip([\"Z\", \"I\"], [Z, I]):\n",
    "    for x_1_name, x_1 in zip([\"X\", \"I\"], [X, I]):\n",
    "            mat_1 = np.linalg.inv(CX) @ np.kron(I, x_0 @ x_1) @ CX\n",
    "            if x_0_name == \"Z\" and x_1_name == \"X\":\n",
    "                mat_1 = mat_1*1.j\n",
    "            phase, x_0_out, x_1_out = get_output_xz(mat_1)\n",
    "            print(f\"I_0{x_0_name}_1{x_1_name}_1 => {phase}{x_0_out}_0{x_1_out}_1\")"
   ]
  },
  {
   "cell_type": "code",
   "execution_count": 24,
   "id": "c7d55bf9",
   "metadata": {},
   "outputs": [
    {
     "name": "stdout",
     "output_type": "stream",
     "text": [
      "XI => 1j*XZ\n",
      "XZ => (-0-1j)*XZ\n",
      "II => (-0-1j)*XZ\n",
      "IZ => 1j*XZ\n"
     ]
    }
   ],
   "source": [
    "def get_output_xz(mat_1):\n",
    "    for x_0_name, x_0 in zip([\"X\", \"Z\", \"I\", \"Y\"], [X, Z, I, Y]):\n",
    "            for phase in [-1.0, 1.0, 1.j, -1.j]:\n",
    "                    mat_2 = phase*x_0\n",
    "                    if np.allclose(mat_1, mat_2):\n",
    "                        if x_0_name == \"Y\":\n",
    "                            x_0_name = \"XZ\"\n",
    "                        return (phase, x_0_name)\n",
    "    return (None, None)\n",
    "\n",
    "for x_0_name, x_0 in zip([\"X\", \"I\"], [X, I]):\n",
    "    for x_1_name, x_1 in zip([\"I\", \"Z\"], [I, Z]):\n",
    "        mat_1 = np.linalg.inv(x_0@x_1)@(X@Z)@x_0@x_1\n",
    "        phase, x_out_0 = get_output_xz(mat_1)\n",
    "        print(f\"{x_0_name}{x_1_name} => {phase}*{x_out_0}\")\n",
    "        "
   ]
  },
  {
   "cell_type": "code",
   "execution_count": 34,
   "id": "0206e236",
   "metadata": {},
   "outputs": [
    {
     "name": "stdout",
     "output_type": "stream",
     "text": [
      "X => -1.0*Y\n",
      "Y => 1.0*X\n",
      "Z => 1.0*Z\n",
      "I => 1.0*I\n"
     ]
    }
   ],
   "source": [
    "def get_output_xz(mat_1):\n",
    "    for x_0_name, x_0 in zip([\"X\", \"Y\", \"Z\", \"I\"], [X, Y, Z, I]):\n",
    "        for phase in [-1.0, 1.0, -1.j, 1.j]:\n",
    "            mat_2 = phase*x_0\n",
    "            if np.allclose(mat_1, mat_2):\n",
    "                return (phase, x_0_name)\n",
    "    return (None, None)\n",
    "\n",
    "for x_0_name, x_0 in zip([\"X\", \"Y\", \"Z\", \"I\"], [X, Y, Z, I]):\n",
    "        mat_1 = S.conj().T@x_0@S\n",
    "        phase, x_out_0 = get_output_xz(mat_1)\n",
    "        print(f\"{x_0_name} => {phase}*{x_out_0}\")"
   ]
  },
  {
   "cell_type": "code",
   "execution_count": null,
   "id": "d8bfd503",
   "metadata": {},
   "outputs": [],
   "source": []
  }
 ],
 "metadata": {
  "kernelspec": {
   "display_name": "Python 3 (ipykernel)",
   "language": "python",
   "name": "python3"
  },
  "language_info": {
   "codemirror_mode": {
    "name": "ipython",
    "version": 3
   },
   "file_extension": ".py",
   "mimetype": "text/x-python",
   "name": "python",
   "nbconvert_exporter": "python",
   "pygments_lexer": "ipython3",
   "version": "3.9.16"
  }
 },
 "nbformat": 4,
 "nbformat_minor": 5
}

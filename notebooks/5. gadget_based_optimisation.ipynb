{
 "cells": [
  {
   "cell_type": "code",
   "execution_count": null,
   "metadata": {},
   "outputs": [],
   "source": [
    "import math\n",
    "from cmath import sin, cos, phase"
   ]
  },
  {
   "cell_type": "code",
   "execution_count": null,
   "metadata": {},
   "outputs": [],
   "source": [
    "from pauliopt.phase import PhaseCircuit, PhaseGadget, Z, X\n",
    "from pauliopt.utils import pi, Angle\n",
    "from pauliopt.topologies import Topology"
   ]
  },
  {
   "cell_type": "code",
   "execution_count": null,
   "metadata": {},
   "outputs": [],
   "source": [
    "circ1 = PhaseCircuit(5)\n",
    "circ1.cx(2, 4)\n",
    "circ1.cx(2, 4)"
   ]
  },
  {
   "cell_type": "code",
   "execution_count": null,
   "metadata": {},
   "outputs": [],
   "source": [
    "def peephole(circuit):\n",
    "    def peep(l, start):\n",
    "        i = start\n",
    "        while i < len(l):\n",
    "            while l[i].angle == 2*pi:\n",
    "                l.pop(i)\n",
    "                return peep(l, start=max(0, i-1))\n",
    "            if i != len(l)-1:\n",
    "                if l[i].basis == l[i+1].basis and l[i].qubits == l[i+1].qubits:\n",
    "                    basis = Z if l[i].basis == 'Z' else X\n",
    "                    total_angle = l[i].angle + l[i+1].angle\n",
    "                    l[i] = basis(total_angle) @ l[i].qubits\n",
    "                    l.pop(i+1)\n",
    "                    return peep(l, start=i)\n",
    "            i += 1\n",
    "    \n",
    "    l = list(circuit.gadgets)\n",
    "    peep(l, start=0)\n",
    "    return PhaseCircuit(circuit.num_qubits, l)"
   ]
  },
  {
   "cell_type": "code",
   "execution_count": null,
   "metadata": {},
   "outputs": [],
   "source": [
    "circ2 = peephole(circ1)\n",
    "circ2"
   ]
  },
  {
   "cell_type": "code",
   "execution_count": null,
   "metadata": {},
   "outputs": [],
   "source": [
    "def group_pi(table):\n",
    "    \"\"\" groups pi gates into one large pi gadget \"\"\"\n",
    "    pi_qubits = set()\n",
    "    keys_to_remove = []\n",
    "    for qubits, phase in table.items():\n",
    "        if phase == pi:\n",
    "            pi_qubits ^= qubits\n",
    "            keys_to_remove.append(qubits)\n",
    "    \n",
    "    for key in keys_to_remove:\n",
    "        del table[key]\n",
    "    pi_key = frozenset(pi_qubits)\n",
    "    if len(pi_key) > 0:\n",
    "        table[pi_key] = table.get(pi_key, Angle(0)) + pi"
   ]
  },
  {
   "cell_type": "code",
   "execution_count": null,
   "metadata": {},
   "outputs": [],
   "source": [
    "def aggregate(circuit):\n",
    "    \"\"\"\n",
    "    Combine the gadgets into layers of same colour gadgets,\n",
    "    potentially applying spider nest identites as well\n",
    "    \"\"\"\n",
    "    if circuit.num_gadgets == 0:\n",
    "        return []\n",
    "    l = circuit.gadgets\n",
    "    \n",
    "    current_basis = l[0].basis\n",
    "    table = dict()\n",
    "    blocks = [(current_basis, table)]\n",
    "    \n",
    "    for gadget in l:\n",
    "        basis, qubits, angle = gadget.basis, gadget.qubits, gadget.angle\n",
    "        if basis == current_basis:\n",
    "            table[qubits] = table.get(qubits, Angle(0)) + angle\n",
    "        else:\n",
    "#             spider_nest(table)\n",
    "            group_pi(table)\n",
    "            current_basis = basis\n",
    "            table = {qubits: angle}\n",
    "            blocks.append((current_basis, table))\n",
    "        group_pi(table)\n",
    "    \n",
    "    \n",
    "    new_circuit = PhaseCircuit(circuit.num_qubits)\n",
    "    \n",
    "    for basis, table in blocks:\n",
    "        basis_cls = Z if basis == 'Z' else X\n",
    "        for qubits, angle in table.items():\n",
    "            if angle == 2*pi:\n",
    "                continue\n",
    "            new_circuit >>= basis_cls(angle) @ qubits\n",
    "            \n",
    "    return new_circuit"
   ]
  },
  {
   "cell_type": "code",
   "execution_count": null,
   "metadata": {
    "scrolled": true
   },
   "outputs": [],
   "source": [
    "circ3 = aggregate(circ2)\n",
    "circ3"
   ]
  },
  {
   "cell_type": "code",
   "execution_count": null,
   "metadata": {},
   "outputs": [],
   "source": [
    "peephole(circ3)"
   ]
  },
  {
   "cell_type": "code",
   "execution_count": null,
   "metadata": {},
   "outputs": [],
   "source": [
    "def spider_nest(table):\n",
    "    # see https://arxiv.org/pdf/2004.05164.pdf\n",
    "    pass"
   ]
  },
  {
   "cell_type": "code",
   "execution_count": null,
   "metadata": {},
   "outputs": [],
   "source": [
    "new_circ = PhaseCircuit(4)\n",
    "new_circ.crx(0,2,pi).crx(0,2,pi).crz(3,1,pi/4).cx(2,1).cz(1,2).h(0)\n",
    "# new_circ.crx(0,2,pi).crx(0,2,pi)"
   ]
  },
  {
   "cell_type": "code",
   "execution_count": null,
   "metadata": {},
   "outputs": [],
   "source": [
    "def simp_circ(circ):\n",
    "    for i in range(1):\n",
    "        circ = peephole(circ)\n",
    "        circ = aggregate(circ)\n",
    "    return circ\n",
    "\n",
    "simp_circ(new_circ)"
   ]
  },
  {
   "cell_type": "code",
   "execution_count": null,
   "metadata": {},
   "outputs": [],
   "source": [
    "def commute(circuit):\n",
    "    \"\"\" Apply commutation relations to group same-colored gadgets \"\"\"\n",
    "    l = list(circuit.gadgets)\n",
    "    \n",
    "    for i, gadget1 in enumerate(l):\n",
    "        j = i-1\n",
    "        basis1, qubits1 = gadget1.basis, gadget1.qubits\n",
    "        while j >= 0:\n",
    "            gadget2 = l[j]\n",
    "            basis2, qubits2 = gadget2.basis, gadget2.qubits\n",
    "            \n",
    "            if basis1 != basis2 and len(qubits1 & qubits2) % 2 == 0:\n",
    "                j -= 1\n",
    "            else:\n",
    "                break\n",
    "        \n",
    "        if j != i-1:\n",
    "            l.pop(i)\n",
    "            l.insert(j+1, gadget1)\n",
    "    return PhaseCircuit(circuit.num_qubits, l)"
   ]
  },
  {
   "cell_type": "code",
   "execution_count": null,
   "metadata": {
    "scrolled": true
   },
   "outputs": [],
   "source": [
    "commute(simp_circ(new_circ))"
   ]
  },
  {
   "cell_type": "code",
   "execution_count": null,
   "metadata": {},
   "outputs": [],
   "source": [
    "def round_near_pi(angle):\n",
    "    multiple = angle * 8 / math.pi\n",
    "    if round(multiple) - multiple < 1e-10:\n",
    "        return Angle(pi / 8 * round(multiple))\n",
    "    return angle\n",
    "\n",
    "def eu(a1, a2, a3, accurate=True):\n",
    "    h1, h2, h3 = (a1/2, a2/2, a3/2)\n",
    "    \n",
    "    xp = h1 + h3\n",
    "    xm = h1 - h3\n",
    "    \n",
    "    z1 = cos(h2)*cos(xp) + 1j*sin(h2)*cos(xm)\n",
    "    z2 = cos(h2)*sin(xp) - 1j*sin(h2)*sin(xm)\n",
    "    \n",
    "    b1 = phase(z1) + phase(z2)\n",
    "    b2 = 2*phase(abs(z1) + 1j*abs(z2))\n",
    "    b3 = phase(z1) - phase(z2)\n",
    "    \n",
    "#     return Angle(b1), Angle(b2), Angle(b3)\n",
    "    return list(map(round_near_pi, [b1, b2, b3]))"
   ]
  },
  {
   "cell_type": "code",
   "execution_count": null,
   "metadata": {
    "scrolled": true
   },
   "outputs": [],
   "source": [
    "eu(pi, pi/2, pi/2)"
   ]
  },
  {
   "cell_type": "code",
   "execution_count": null,
   "metadata": {},
   "outputs": [],
   "source": [
    "def euler_gadgets_long(circuit):\n",
    "    l = list(circuit.gadgets)\n",
    "    \n",
    "    i = 0\n",
    "    while i < len(l)-3:\n",
    "        positions = [i]\n",
    "        g_qubits, g_basis = l[i].qubits, l[i].basis\n",
    "        j = i+1\n",
    "        while j < len(l):\n",
    "            new_qubits, new_basis = l[j].qubits, l[j].basis\n",
    "            if not (g_basis == new_basis or (overlap := len(g_qubits & new_qubits)) == 0):\n",
    "                if overlap % 2 == 1:\n",
    "                    positions.append(j)\n",
    "                    g_basis = new_basis\n",
    "                    if len(positions) == 4:\n",
    "                        break\n",
    "            j += 1\n",
    "        if len(positions) != 4:\n",
    "            i += 1\n",
    "            continue\n",
    "        print(\"found\", positions)\n",
    "        \n",
    "        gadgets = [l[x] for x in positions]\n",
    "        \n",
    "        a1, a2, a3, a4 = map(lambda x: x.angle, gadgets)\n",
    "        q1, q2, q3, q4 = map(lambda x: x.qubits, gadgets)\n",
    "        c1, c2, c3, c4 = map(lambda x: x.basis, gadgets)\n",
    "        # check alternating colors\n",
    "        if c1 == c3 and c2 == c4 and c1 != c2:\n",
    "            # matching legs for matching colours\n",
    "            if q1 == q3 and q2 == q4:\n",
    "                new_basis1, new_basis2 = [Z if basis == 'Z' else X for basis in [c2, c1]]\n",
    "                new_legs1, new_legs2 = q2, q1\n",
    "                \n",
    "                b1, b2, b3 = eu(a1, a2, a3)\n",
    "                b3 += a4\n",
    "                g1 = new_basis1(b1) @ new_legs1\n",
    "                g2 = new_basis2(b2) @ new_legs2\n",
    "                g3 = new_basis1(b3) @ new_legs1\n",
    "                \n",
    "                for x in reversed(positions):\n",
    "                    l.pop(x)\n",
    "                \n",
    "                l = l[:i] + [g1, g2, g3] + l[i:]\n",
    "                i -= 1\n",
    "        i += 1\n",
    "    return PhaseCircuit(circuit.num_qubits, l)"
   ]
  },
  {
   "cell_type": "code",
   "execution_count": null,
   "metadata": {},
   "outputs": [],
   "source": [
    "def euler_gadgets(circuit):\n",
    "    l = list(circuit.gadgets)\n",
    "    \n",
    "    i = 0\n",
    "    while i < len(l)-3:\n",
    "        a1, a2, a3, a4 = map(lambda x: x.angle, l[i:i+4])\n",
    "        q1, q2, q3, q4 = map(lambda x: x.qubits, l[i:i+4])\n",
    "        c1, c2, c3, c4 = map(lambda x: x.basis, l[i:i+4])\n",
    "        # check alternating colors\n",
    "        if c1 == c3 and c2 == c4 and c1 != c2:\n",
    "            # matching legs for matching colours\n",
    "            if q1 == q3 and q2 == q4:\n",
    "                new_basis1, new_basis2 = [Z if basis == 'Z' else X for basis in [c2, c1]]\n",
    "                new_legs1, new_legs2 = q2, q1\n",
    "                \n",
    "                b1, b2, b3 = eu(a1, a2, a3)\n",
    "                b3 += a4\n",
    "                g1 = new_basis1(b1) @ new_legs1\n",
    "                g2 = new_basis2(b2) @ new_legs2\n",
    "                g3 = new_basis1(b3) @ new_legs1\n",
    "                \n",
    "                l = l[:i] + [g1, g2, g3] + l[i+4:]\n",
    "                i -= 1\n",
    "        i += 1\n",
    "    return PhaseCircuit(circuit.num_qubits, l)"
   ]
  },
  {
   "cell_type": "code",
   "execution_count": null,
   "metadata": {},
   "outputs": [],
   "source": [
    "simped_circ = simp_circ(commute(simp_circ(new_circ)))\n",
    "euler_gadgets(simped_circ)"
   ]
  },
  {
   "cell_type": "code",
   "execution_count": null,
   "metadata": {},
   "outputs": [],
   "source": [
    "simped_circ = simp_circ(commute(simp_circ(new_circ)))\n",
    "euler_gadgets_long(simped_circ)"
   ]
  },
  {
   "cell_type": "code",
   "execution_count": null,
   "metadata": {},
   "outputs": [],
   "source": [
    "eu(pi, pi/2, pi/2)"
   ]
  },
  {
   "cell_type": "markdown",
   "metadata": {},
   "source": [
    "TODO\n",
    "- pi push for single pis\n",
    "- EU for single qubits (do 4 range search better)\n"
   ]
  }
 ],
 "metadata": {
  "kernelspec": {
   "display_name": "Python 3",
   "language": "python",
   "name": "python3"
  },
  "language_info": {
   "codemirror_mode": {
    "name": "ipython",
    "version": 3
   },
   "file_extension": ".py",
   "mimetype": "text/x-python",
   "name": "python",
   "nbconvert_exporter": "python",
   "pygments_lexer": "ipython3",
   "version": "3.8.3"
  }
 },
 "nbformat": 4,
 "nbformat_minor": 4
}

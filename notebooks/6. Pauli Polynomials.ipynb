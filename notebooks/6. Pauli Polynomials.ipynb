{
 "cells": [
  {
   "cell_type": "code",
   "execution_count": 1,
   "id": "4abbaa6c",
   "metadata": {},
   "outputs": [],
   "source": [
    "from pauliopt.pauli.pauli_polynomial import PauliPolynomial\n",
    "from pauliopt.pauli.pauli_gadget import PPhase\n",
    "from pauliopt.pauli.utils import I, Z, X, Y\n",
    "from pauliopt.utils import Angle, pi\n",
    "from pauliopt.topologies import Topology"
   ]
  },
  {
   "cell_type": "markdown",
   "id": "173ba092",
   "metadata": {},
   "source": [
    "# Pauli Polynomials\n",
    "\n",
    "## Pauli Gadgets\n",
    "\n",
    "Pauli Gadgets are mathematical expressions defined as:\n",
    "\n",
    "$$\n",
    "P = \\exp(-i \\frac{\\alpha}{2} \\bigotimes_i P_i)\n",
    "$$\n",
    "\n",
    "Here, \\(P_i\\) represents one of the Pauli matrices:\n",
    "\n",
    "- Pauli-X:\n",
    "$$\n",
    "X = \\begin{bmatrix} 0 & 1 \\\\ 1 & 0 \\end{bmatrix}\n",
    "$$\n",
    "- Pauli-Y:\n",
    "$$\n",
    "Y = \\begin{bmatrix} 0 & -i \\\\ i & 0 \\end{bmatrix}\n",
    "$$\n",
    "- Pauli-Z:\n",
    "$$\n",
    "Z = \\begin{bmatrix} 1 & 0 \\\\ 0 & -1 \\end{bmatrix}\n",
    "$$\n",
    "- Identity:\n",
    "$$\n",
    "I = \\begin{bmatrix} 1 & 0 \\\\ 0 & 1 \\end{bmatrix}\n",
    "$$\n",
    "\n",
    "A formal definition and further information on Pauli gadgets can be found [here](https://arxiv.org/abs/1906.01734).\n",
    "\n",
    "Within `pauliopt`, Pauli gadgets are constructed in a similar way to Phase gadgets, following these steps:\n",
    "- An angle is required, which can be an instance of `pauliopt.utils.Angle` or any object that satisfies the `pauliopt.utils.AngleProtocol` protocol.\n",
    "- A list of legs is defined, where each leg corresponds to one of the Pauli matrices (X, Y, Z, I).\n",
    "- The qubits spanned by the Pauli gadget are determined by the length of the list. If there are no qubits to be acted on, the Identity matrix is used.\n",
    "\n",
    "Example:"
   ]
  },
  {
   "cell_type": "code",
   "execution_count": 2,
   "id": "a22d780c",
   "metadata": {},
   "outputs": [
    {
     "data": {
      "text/plain": [
       "PPhase(0.5) @  [ I, Z, X, Y ]"
      ]
     },
     "execution_count": 2,
     "metadata": {},
     "output_type": "execute_result"
    }
   ],
   "source": [
    "pauli_gadget = PPhase(0.5) @ [I, Z, X, Y] # TODO Angle(pi)\n",
    "pauli_gadget"
   ]
  },
  {
   "cell_type": "markdown",
   "id": "641c0890",
   "metadata": {},
   "source": [
    "We can define a Pauli gadget on a quantum circuit by following these steps:\n",
    "\n",
    "1. *Apply a set of Clifford gates:*\n",
    "   - If the Pauli gadget is X, place the H-Gate on the corresponding qubit.\n",
    "   - If the Pauli gadget is Y, apply the $\\sqrt{X}$ or V-Gate on the corresponding qubit.\n",
    "   - If the Pauli gadget is Z or the Identity, no additional gate is applied.\n",
    "2. *Create a CNOT-Ladder:*\n",
    "   - Implement a sequence of CNOT gates between the target qubit and the control qubits.\n",
    "3. *Perform an Rz(alpha) rotation:*\n",
    "   - Apply the Rz(alpha) gate on the target qubit.\n",
    "4. *Undo the process:*\n",
    "   - Reverse the CNOT-Ladder by applying the CNOT gates in the opposite order.\n",
    "   - Reapply the Clifford gates in the reverse order to undo their effects.\n",
    "\n",
    "Here's an example of a circuit showcasing these steps:"
   ]
  },
  {
   "cell_type": "code",
   "execution_count": 3,
   "id": "71d6fc47",
   "metadata": {},
   "outputs": [],
   "source": [
    "#print(pauli_gadget.to_qiskit(Topology.line(4)))"
   ]
  },
  {
   "cell_type": "markdown",
   "id": "49fe3a52",
   "metadata": {},
   "source": [
    "## Pauli Polynomial\n",
    "\n",
    "To construct a Pauli polynomial, we can chain together multiple Pauli gadgets. Each Pauli gadget acts on a specific set of qubits and contributes to the overall transformation of the system (you can view this as n-dimensional rotations acting sequentially). \n",
    "\n",
    "Here's an example illustrating the construction of a Pauli polynomial:"
   ]
  },
  {
   "cell_type": "code",
   "execution_count": 4,
   "id": "1c72d4e0",
   "metadata": {},
   "outputs": [
    {
     "name": "stdout",
     "output_type": "stream",
     "text": [
      "PPhase(π) @      [ I, I, X, Z, Y ]\n",
      "PPhase(π/2) @    [ X, X, I, I, Y ]\n",
      "PPhase(π/256) @  [ X, I, I, Z, Y ]\n",
      "PPhase(π/8) @    [ X, X, X, Z, Y ]\n",
      "PPhase(π/4) @    [ X, Z, I, I, Y ]\n",
      "PPhase(π/2) @    [ X, I, I, Y, Y ]\n"
     ]
    }
   ],
   "source": [
    "pp = PauliPolynomial(5)\n",
    "\n",
    "pp >>= PPhase(Angle(pi)) @ [I, I, X, Z, Y]\n",
    "pp >>= PPhase(Angle(pi/2)) @ [X, X, I, I, Y]\n",
    "pp >>= PPhase(Angle(pi/256)) @ [X, I, I, Z, Y]\n",
    "pp >>= PPhase(Angle(pi/8)) @ [X, X, X, Z, Y]\n",
    "pp >>= PPhase(Angle(pi/4)) @ [X, Z, I, I, Y]\n",
    "pp >>= PPhase(Angle(pi/2)) @ [X, I, I, Y, Y]\n",
    "\n",
    "# Representation in CLI applications\n",
    "print(pp)"
   ]
  },
  {
   "cell_type": "code",
   "execution_count": 8,
   "id": "f2007e30",
   "metadata": {},
   "outputs": [
    {
     "name": "stdout",
     "output_type": "stream",
     "text": [
      "\\documentclass[preview]{standalone}\n",
      "\n",
      "\\usepackage{tikz}\n",
      "\\usetikzlibrary{zx-calculus}\n",
      "\\usetikzlibrary{quantikz}\n",
      "\\usepackage{graphicx}\n",
      "\n",
      "\\tikzset{\n",
      "diagonal fill/.style 2 args={fill=#2, path picture={\n",
      "\\fill[#1, sharp corners] (path picture bounding box.south west) -|\n",
      "                         (path picture bounding box.north east) -- cycle;}},\n",
      "reversed diagonal fill/.style 2 args={fill=#2, path picture={\n",
      "\\fill[#1, sharp corners] (path picture bounding box.north west) |- \n",
      "                         (path picture bounding box.south east) -- cycle;}}\n",
      "}\n",
      "\n",
      "\\tikzset{\n",
      "diagonal fill/.style 2 args={fill=#2, path picture={\n",
      "\\fill[#1, sharp corners] (path picture bounding box.south west) -|\n",
      "                         (path picture bounding box.north east) -- cycle;}}\n",
      "}\n",
      "\n",
      "\\tikzset{\n",
      "pauliY/.style={\n",
      "zxAllNodes,\n",
      "zxSpiders,\n",
      "inner sep=0mm,\n",
      "minimum size=2mm,\n",
      "shape=rectangle,\n",
      "%fill=colorZxX\n",
      "diagonal fill={colorZxX}{colorZxZ}\n",
      "}\n",
      "}\n",
      "\n",
      "\\tikzset{\n",
      "pauliX/.style={\n",
      "zxAllNodes,\n",
      "zxSpiders,\n",
      "inner sep=0mm,\n",
      "minimum size=2mm,\n",
      "shape=rectangle,\n",
      "fill=colorZxX\n",
      "}\n",
      "}\n",
      "\n",
      "\\tikzset{\n",
      "pauliZ/.style={\n",
      "zxAllNodes,\n",
      "zxSpiders,\n",
      "inner sep=0mm,\n",
      "minimum size=2mm,\n",
      "shape=rectangle,\n",
      "fill=colorZxZ\n",
      "}\n",
      "}\n",
      "\n",
      "\\tikzset{\n",
      "pauliPhase/.style={\n",
      "zxAllNodes,\n",
      "zxSpiders,\n",
      "inner sep=0.5mm,\n",
      "minimum size=2mm,\n",
      "shape=rectangle,\n",
      "fill=white\n",
      "}\n",
      "}\n",
      "\\begin{document}\n",
      "\\begin{ZX}\n",
      "\\zxNone{} \t\t& \\zxNone{}                               & |[pauliPhase]| \\frac{\\pi}{2} & \\zxNone{}      & \\zxNone{}                               & |[pauliPhase]| \\frac{\\pi}{2} & \\zxNone{}      & \\zxNone{}                               & |[pauliPhase]| \\frac{\\pi}{2} & \\zxNone{}      & \\zxNone{}                               & |[pauliPhase]| \\pi           & \\zxNone{}      & \\zxNone{}                               & |[pauliPhase]| \\pi           & \\zxNone{}      &\\\\ \n",
      "\\\\ \n",
      "\\zxNone{} \\rar \t& |[pauliX]| \\ar[ruu, bend right] \\rar    & \\zxNone{} \\rar               & \\zxNone{} \\rar & \\zxNone{} \\rar                          & \\zxNone{} \\rar               & \\zxNone{} \\rar & \\zxNone{} \\rar                          & \\zxNone{} \\rar               & \\zxNone{} \\rar & |[pauliZ]| \\ar[ruu, bend right] \\rar    & \\zxNone{} \\rar               & \\zxNone{} \\rar & |[pauliZ]| \\ar[ruu, bend right] \\rar    & \\zxNone{} \\rar               & \\zxNone{} \\rar &\\\\ \n",
      "\\zxNone{} \\rar \t& \\zxNone{} \\rar                          & \\zxNone{} \\rar               & \\zxNone{} \\rar & |[pauliX]| \\ar[ruuu, bend right] \\rar   & \\zxNone{} \\rar               & \\zxNone{} \\rar & \\zxNone{} \\rar                          & \\zxNone{} \\rar               & \\zxNone{} \\rar & |[pauliZ]| \\ar[ruuu, bend right] \\rar   & \\zxNone{} \\rar               & \\zxNone{} \\rar & \\zxNone{} \\rar                          & \\zxNone{} \\rar               & \\zxNone{} \\rar &\\\\ \n",
      "\\zxNone{} \\rar \t& \\zxNone{} \\rar                          & \\zxNone{} \\rar               & \\zxNone{} \\rar & \\zxNone{} \\rar                          & \\zxNone{} \\rar               & \\zxNone{} \\rar & |[pauliX]| \\ar[ruuuu, bend right] \\rar  & \\zxNone{} \\rar               & \\zxNone{} \\rar & \\zxNone{} \\rar                          & \\zxNone{} \\rar               & \\zxNone{} \\rar & |[pauliZ]| \\ar[ruuuu, bend right] \\rar  & \\zxNone{} \\rar               & \\zxNone{} \\rar &\\\\ \n",
      "\\end{ZX} \n",
      "\\end{document}\n",
      "\n"
     ]
    }
   ],
   "source": [
    "pp_ = PauliPolynomial(3)\n",
    "\n",
    "pp_ >>= PPhase(Angle(pi/2)) @ [X, I, I]\n",
    "pp_ >>= PPhase(Angle(pi/2)) @ [I, X, I]\n",
    "pp_ >>= PPhase(Angle(pi/2)) @ [I, I, X]\n",
    "pp_ >>= PPhase(Angle(pi)) @ [Z, Z, I]\n",
    "pp_ >>= PPhase(Angle(pi)) @ [Z, I, Z]\n",
    "\n",
    "\n",
    "print(pp_.to_latex())"
   ]
  },
  {
   "cell_type": "markdown",
   "id": "b74b67a2",
   "metadata": {},
   "source": [
    "An example circuit of the Pauli Polynomial above, can be generated as follows:"
   ]
  },
  {
   "cell_type": "code",
   "execution_count": 6,
   "id": "08d1f442",
   "metadata": {
    "scrolled": false
   },
   "outputs": [
    {
     "name": "stdout",
     "output_type": "stream",
     "text": [
      "        ┌───┐                                                       ┌───┐┌───┐»\n",
      "q_0: ───┤ H ├───────────────────────────────────────────────────────┤ X ├┤ X ├»\n",
      "        ├───┤                                                       └─┬─┘└─┬─┘»\n",
      "q_1: ───┤ H ├─────────────────────────────────────────────────────────┼────■──»\n",
      "        ├───┤   ┌───┐┌───┐┌───────┐┌───┐┌───┐   ┌───┐       ┌───┐     │       »\n",
      "q_2: ───┤ H ├───┤ X ├┤ X ├┤ Rz(π) ├┤ X ├┤ X ├───┤ H ├───────┤ H ├─────┼───────»\n",
      "        └───┘   └─┬─┘└─┬─┘└───────┘└─┬─┘└─┬─┘   └───┘       └───┘     │       »\n",
      "q_3: ─────────────┼────■─────────────■────┼───────────────────────────┼───────»\n",
      "     ┌─────────┐  │                       │  ┌──────────┐┌─────────┐  │       »\n",
      "q_4: ┤ Rx(π/2) ├──■───────────────────────■──┤ Rx(-π/2) ├┤ Rx(π/2) ├──■───────»\n",
      "     └─────────┘                             └──────────┘└─────────┘          »\n",
      "«     ┌─────────┐┌───┐┌───┐   ┌───┐       ┌───┐   ┌───┐┌───┐┌───────────┐┌───┐»\n",
      "«q_0: ┤ Rz(π/2) ├┤ X ├┤ X ├───┤ H ├───────┤ H ├───┤ X ├┤ X ├┤ Rz(π/256) ├┤ X ├»\n",
      "«     └─────────┘└─┬─┘└─┬─┘   ├───┤       ├───┤   └─┬─┘└─┬─┘└───────────┘└─┬─┘»\n",
      "«q_1: ─────────────■────┼─────┤ H ├───────┤ H ├─────┼────┼─────────────────┼──»\n",
      "«                       │     └───┘       └───┘     │    │                 │  »\n",
      "«q_2: ──────────────────┼───────────────────────────┼────┼─────────────────┼──»\n",
      "«                       │                           │    │                 │  »\n",
      "«q_3: ──────────────────┼───────────────────────────┼────■─────────────────■──»\n",
      "«                       │  ┌──────────┐┌─────────┐  │                         »\n",
      "«q_4: ──────────────────■──┤ Rx(-π/2) ├┤ Rx(π/2) ├──■─────────────────────────»\n",
      "«                          └──────────┘└─────────┘                            »\n",
      "«     ┌───┐   ┌───┐       ┌───┐   ┌───┐┌───┐┌───┐┌───┐┌─────────┐┌───┐┌───┐»\n",
      "«q_0: ┤ X ├───┤ H ├───────┤ H ├───┤ X ├┤ X ├┤ X ├┤ X ├┤ Rz(π/8) ├┤ X ├┤ X ├»\n",
      "«     └─┬─┘   └───┘       └───┘   └─┬─┘└─┬─┘└─┬─┘└─┬─┘└─────────┘└─┬─┘└─┬─┘»\n",
      "«q_1: ──┼───────────────────────────┼────┼────┼────■───────────────■────┼──»\n",
      "«       │                           │    │    │                         │  »\n",
      "«q_2: ──┼───────────────────────────┼────┼────■─────────────────────────■──»\n",
      "«       │                           │    │                                 »\n",
      "«q_3: ──┼───────────────────────────┼────■─────────────────────────────────»\n",
      "«       │  ┌──────────┐┌─────────┐  │                                      »\n",
      "«q_4: ──■──┤ Rx(-π/2) ├┤ Rx(π/2) ├──■──────────────────────────────────────»\n",
      "«          └──────────┘└─────────┘                                         »\n",
      "«          ┌───┐┌───┐   ┌───┐       ┌───┐   ┌───┐┌───┐┌─────────┐┌───┐┌───┐»\n",
      "«q_0: ─────┤ X ├┤ X ├───┤ H ├───────┤ H ├───┤ X ├┤ X ├┤ Rz(π/4) ├┤ X ├┤ X ├»\n",
      "«     ┌───┐└─┬─┘└─┬─┘   └───┘       └───┘   └─┬─┘└─┬─┘└─────────┘└─┬─┘└─┬─┘»\n",
      "«q_1: ┤ H ├──┼────┼───────────────────────────┼────■───────────────■────┼──»\n",
      "«     ├───┤  │    │                           │                         │  »\n",
      "«q_2: ┤ H ├──┼────┼───────────────────────────┼─────────────────────────┼──»\n",
      "«     └───┘  │    │  ┌─────────┐              │                         │  »\n",
      "«q_3: ───────■────┼──┤ Rx(π/2) ├──────────────┼─────────────────────────┼──»\n",
      "«                 │  ├─────────┴┐┌─────────┐  │                         │  »\n",
      "«q_4: ────────────■──┤ Rx(-π/2) ├┤ Rx(π/2) ├──■─────────────────────────■──»\n",
      "«                    └──────────┘└─────────┘                               »\n",
      "«        ┌───┐       ┌───┐   ┌───┐┌───┐┌─────────┐┌───┐┌───┐   ┌───┐    \n",
      "«q_0: ───┤ H ├───────┤ H ├───┤ X ├┤ X ├┤ Rz(π/2) ├┤ X ├┤ X ├───┤ H ├────\n",
      "«        └───┘       └───┘   └─┬─┘└─┬─┘└─────────┘└─┬─┘└─┬─┘   └───┘    \n",
      "«q_1: ─────────────────────────┼────┼───────────────┼────┼──────────────\n",
      "«                              │    │               │    │              \n",
      "«q_2: ─────────────────────────┼────┼───────────────┼────┼──────────────\n",
      "«                              │    │               │    │  ┌──────────┐\n",
      "«q_3: ─────────────────────────┼────■───────────────■────┼──┤ Rx(-π/2) ├\n",
      "«     ┌──────────┐┌─────────┐  │                         │  ├──────────┤\n",
      "«q_4: ┤ Rx(-π/2) ├┤ Rx(π/2) ├──■─────────────────────────■──┤ Rx(-π/2) ├\n",
      "«     └──────────┘└─────────┘                               └──────────┘\n"
     ]
    }
   ],
   "source": [
    "print(pp.to_qiskit())"
   ]
  },
  {
   "cell_type": "markdown",
   "id": "dc2407ad",
   "metadata": {},
   "source": [
    "It is also possible to route such a polynomial on a certain type of architecture"
   ]
  },
  {
   "cell_type": "code",
   "execution_count": 7,
   "id": "774fb7c8",
   "metadata": {},
   "outputs": [
    {
     "name": "stdout",
     "output_type": "stream",
     "text": [
      "        ┌───┐                                                                 »\n",
      "q_0: ───┤ H ├─────────────────────────────────────────────────────────────────»\n",
      "        ├───┤                                                                 »\n",
      "q_1: ───┤ H ├─────────────────────────────────────────────────────────────────»\n",
      "        ├───┤        ┌───┐┌───────┐┌───┐┌───┐                                 »\n",
      "q_2: ───┤ H ├────────┤ X ├┤ Rz(π) ├┤ X ├┤ H ├─────────────────────────────────»\n",
      "        └───┘   ┌───┐└─┬─┘└───────┘└─┬─┘├───┤                            ┌───┐»\n",
      "q_3: ───────────┤ X ├──■─────────────■──┤ X ├─────────────────────────■──┤ X ├»\n",
      "     ┌─────────┐└─┬─┘                   └─┬─┘┌──────────┐┌─────────┐┌─┴─┐└─┬─┘»\n",
      "q_4: ┤ Rx(π/2) ├──■───────────────────────■──┤ Rx(-π/2) ├┤ Rx(π/2) ├┤ X ├──■──»\n",
      "     └─────────┘                             └──────────┘└─────────┘└───┘     »\n",
      "«                    ┌───┐┌─────────┐┌───┐┌───┐┌───┐                           »\n",
      "«q_0: ───────────────┤ X ├┤ Rz(π/2) ├┤ X ├┤ H ├┤ H ├───────────────────────────»\n",
      "«               ┌───┐└─┬─┘└─────────┘└─┬─┘├───┤├───┤                           »\n",
      "«q_1: ──────────┤ X ├──■───────────────■──┤ X ├┤ H ├───────────────────────────»\n",
      "«          ┌───┐└─┬─┘                     └─┬─┘├───┤                           »\n",
      "«q_2: ──■──┤ X ├──■─────────────────────────■──┤ X ├──■────────────────────────»\n",
      "«     ┌─┴─┐└─┬─┘                               └─┬─┘┌─┴─┐┌───┐                 »\n",
      "«q_3: ┤ X ├──■───────────────────────────────────■──┤ X ├┤ X ├──■──────────────»\n",
      "«     └───┘                                         └───┘└─┬─┘┌─┴─┐┌──────────┐»\n",
      "«q_4: ─────────────────────────────────────────────────────■──┤ X ├┤ Rx(-π/2) ├»\n",
      "«                                                             └───┘└──────────┘»\n",
      "«                                         ┌───┐┌───────────┐┌───┐┌───┐┌───┐»\n",
      "«q_0: ────────────────────────────────────┤ X ├┤ Rz(π/256) ├┤ X ├┤ H ├┤ H ├»\n",
      "«                                    ┌───┐└─┬─┘└───────────┘└─┬─┘├───┤└───┘»\n",
      "«q_1: ────────────────────────────■──┤ X ├──■─────────────────■──┤ X ├──■──»\n",
      "«                          ┌───┐┌─┴─┐└─┬─┘                       └─┬─┘┌─┴─┐»\n",
      "«q_2: ──────────────────■──┤ X ├┤ X ├──■───────────────────────────■──┤ X ├»\n",
      "«                ┌───┐┌─┴─┐└─┬─┘└───┘                                 └───┘»\n",
      "«q_3: ───────────┤ X ├┤ X ├──■─────────────────────────────────────────────»\n",
      "«     ┌─────────┐└─┬─┘└───┘                                                »\n",
      "«q_4: ┤ Rx(π/2) ├──■───────────────────────────────────────────────────────»\n",
      "«     └─────────┘                                                          »\n",
      "«                                                          ┌───┐┌─────────┐»\n",
      "«q_0: ─────────────────────────────────────────────────────┤ X ├┤ Rz(π/8) ├»\n",
      "«     ┌───┐                                           ┌───┐└─┬─┘└─────────┘»\n",
      "«q_1: ┤ H ├───────────────────────────────────────────┤ X ├──■─────────────»\n",
      "«     ├───┤     ┌───┐                            ┌───┐└─┬─┘                »\n",
      "«q_2: ┤ X ├──■──┤ H ├────────────────────────────┤ X ├──■──────────────────»\n",
      "«     └─┬─┘┌─┴─┐├───┤                       ┌───┐└─┬─┘                     »\n",
      "«q_3: ──■──┤ X ├┤ X ├───────────────────────┤ X ├──■───────────────────────»\n",
      "«          └───┘└─┬─┘┌──────────┐┌─────────┐└─┬─┘                          »\n",
      "«q_4: ────────────■──┤ Rx(-π/2) ├┤ Rx(π/2) ├──■────────────────────────────»\n",
      "«                    └──────────┘└─────────┘                               »\n",
      "«     ┌───┐┌───┐┌───┐                                                     ┌───┐»\n",
      "«q_0: ┤ X ├┤ H ├┤ H ├─────────────────────────────────────────────────────┤ X ├»\n",
      "«     └─┬─┘├───┤├───┤                                                ┌───┐└─┬─┘»\n",
      "«q_1: ──■──┤ X ├┤ H ├────────────────────────────────────────────────┤ X ├──■──»\n",
      "«          └─┬─┘├───┤┌───┐                                      ┌───┐└─┬─┘     »\n",
      "«q_2: ───────■──┤ X ├┤ H ├───────────────────────────────────■──┤ X ├──■───────»\n",
      "«               └─┬─┘├───┤                            ┌───┐┌─┴─┐└─┬─┘          »\n",
      "«q_3: ────────────■──┤ X ├─────────────────────────■──┤ X ├┤ X ├──■────────────»\n",
      "«                    └─┬─┘┌──────────┐┌─────────┐┌─┴─┐└─┬─┘└───┘               »\n",
      "«q_4: ─────────────────■──┤ Rx(-π/2) ├┤ Rx(π/2) ├┤ X ├──■──────────────────────»\n",
      "«                         └──────────┘└─────────┘└───┘                         »\n",
      "«     ┌─────────┐┌───┐┌───┐┌───┐                                           »\n",
      "«q_0: ┤ Rz(π/4) ├┤ X ├┤ H ├┤ H ├───────────────────────────────────────────»\n",
      "«     └─────────┘└─┬─┘├───┤└───┘                                           »\n",
      "«q_1: ─────────────■──┤ X ├────────────────────────────────────────────────»\n",
      "«                     └─┬─┘┌───┐                                           »\n",
      "«q_2: ──────────────────■──┤ X ├──■────────────────────────────────────────»\n",
      "«                          └─┬─┘┌─┴─┐┌───┐     ┌─────────┐            ┌───┐»\n",
      "«q_3: ───────────────────────■──┤ X ├┤ X ├──■──┤ Rx(π/2) ├────────────┤ X ├»\n",
      "«                               └───┘└─┬─┘┌─┴─┐├─────────┴┐┌─────────┐└─┬─┘»\n",
      "«q_4: ─────────────────────────────────■──┤ X ├┤ Rx(-π/2) ├┤ Rx(π/2) ├──■──»\n",
      "«                                         └───┘└──────────┘└─────────┘     »\n",
      "«                         ┌───┐┌─────────┐┌───┐┌───┐                    »\n",
      "«q_0: ────────────────────┤ X ├┤ Rz(π/2) ├┤ X ├┤ H ├────────────────────»\n",
      "«                    ┌───┐└─┬─┘└─────────┘└─┬─┘├───┤                    »\n",
      "«q_1: ────────────■──┤ X ├──■───────────────■──┤ X ├──■─────────────────»\n",
      "«          ┌───┐┌─┴─┐└─┬─┘                     └─┬─┘┌─┴─┐┌───┐          »\n",
      "«q_2: ──■──┤ X ├┤ X ├──■─────────────────────────■──┤ X ├┤ X ├──■───────»\n",
      "«     ┌─┴─┐└─┬─┘└───┘                               └───┘└─┬─┘┌─┴─┐┌───┐»\n",
      "«q_3: ┤ X ├──■─────────────────────────────────────────────■──┤ X ├┤ X ├»\n",
      "«     └───┘                                                   └───┘└─┬─┘»\n",
      "«q_4: ───────────────────────────────────────────────────────────────■──»\n",
      "«                                                                       »\n",
      "«                 \n",
      "«q_0: ────────────\n",
      "«                 \n",
      "«q_1: ────────────\n",
      "«                 \n",
      "«q_2: ────────────\n",
      "«     ┌──────────┐\n",
      "«q_3: ┤ Rx(-π/2) ├\n",
      "«     ├──────────┤\n",
      "«q_4: ┤ Rx(-π/2) ├\n",
      "«     └──────────┘\n"
     ]
    }
   ],
   "source": [
    "print(pp.to_qiskit(Topology.line(pp.num_qubits)))"
   ]
  },
  {
   "cell_type": "code",
   "execution_count": null,
   "id": "a674d6c8",
   "metadata": {},
   "outputs": [],
   "source": []
  }
 ],
 "metadata": {
  "kernelspec": {
   "display_name": "Python 3 (ipykernel)",
   "language": "python",
   "name": "python3"
  },
  "language_info": {
   "codemirror_mode": {
    "name": "ipython",
    "version": 3
   },
   "file_extension": ".py",
   "mimetype": "text/x-python",
   "name": "python",
   "nbconvert_exporter": "python",
   "pygments_lexer": "ipython3",
   "version": "3.9.16"
  }
 },
 "nbformat": 4,
 "nbformat_minor": 5
}

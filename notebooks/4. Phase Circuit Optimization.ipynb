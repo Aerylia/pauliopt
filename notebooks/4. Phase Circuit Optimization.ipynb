{
 "cells": [
  {
   "cell_type": "markdown",
   "metadata": {
    "slideshow": {
     "slide_type": "slide"
    }
   },
   "source": [
    "# Phase Circuit Optimization"
   ]
  },
  {
   "cell_type": "markdown",
   "metadata": {
    "slideshow": {
     "slide_type": "subslide"
    }
   },
   "source": [
    "Changing working directory from `./notebooks/` to `./`, in order to import the Python packages defined in the repository."
   ]
  },
  {
   "cell_type": "code",
   "execution_count": null,
   "metadata": {},
   "outputs": [],
   "source": [
    "import os\n",
    "DEBUG = True\n",
    "try:\n",
    "    print(\"Original working directory: %s\"%str(original_wd)) # type: ignore\n",
    "    \"\"\"\n",
    "        You only get here if you---by mistake or otherwise---are re-running this cell, \n",
    "        in which case the working should not be changed again.\n",
    "    \"\"\"\n",
    "except NameError:\n",
    "    original_wd = os.getcwd()\n",
    "    os.chdir('../')\n",
    "print(\"Current working directory: %s\"%str(os.getcwd()))"
   ]
  },
  {
   "cell_type": "markdown",
   "metadata": {
    "slideshow": {
     "slide_type": "subslide"
    }
   },
   "source": [
    "General purpose imports:"
   ]
  },
  {
   "cell_type": "code",
   "execution_count": null,
   "metadata": {},
   "outputs": [],
   "source": [
    "import matplotlib.pyplot as plt\n",
    "import numpy as np\n",
    "# import qiskit"
   ]
  },
  {
   "cell_type": "markdown",
   "metadata": {
    "slideshow": {
     "slide_type": "subslide"
    }
   },
   "source": [
    "Some utility code to display HTML elements and images/figures side-by-side:"
   ]
  },
  {
   "cell_type": "code",
   "execution_count": null,
   "metadata": {},
   "outputs": [],
   "source": [
    "from io import BytesIO\n",
    "from typing import Union\n",
    "from IPython.display import Image, HTML # type: ignore\n",
    "def figure_to_image(fig: plt.Figure, fmt: str = \"png\") -> Image:\n",
    "    \"\"\" Converts a Matplotlib figure to a PNG IPython Image. \"\"\"\n",
    "    buffer = BytesIO()\n",
    "    fig.savefig(buffer, format=fmt)\n",
    "    buffer.seek(0)\n",
    "    image_png = buffer.getvalue()\n",
    "    buffer.close()\n",
    "    return Image(image_png, format=fmt, embed=True)\n",
    "def side_by_side(*elements: Union[str, Image]) -> HTML:\n",
    "    \"\"\"\n",
    "        Returns an HTML Div element with the given elements\n",
    "        displayed side by side. Accepts raw HTML code or\n",
    "        IPython Image objects.\n",
    "    \"\"\"\n",
    "    html = f\"<div style='display:flex; align-items: center;'>\"\n",
    "    for el in elements:\n",
    "        if isinstance(el, str):\n",
    "            html += el\n",
    "        elif isinstance(el, Image):\n",
    "            html += f\"<img src='data:image/png;base64,{el._repr_png_()}'/>\"\n",
    "    html += f\"</div>\"\n",
    "    return HTML(html)"
   ]
  },
  {
   "cell_type": "markdown",
   "metadata": {
    "slideshow": {
     "slide_type": "slide"
    }
   },
   "source": [
    "## Phase Circuit Optimization\n",
    "\n",
    "The optimisation of a circuit $\\mathcal{C}$ of mixed ZX phase gadgets proceeds through conjugation of the circuit by a suitably chosen block $U$ of CX gates, obtaining another circuit $U \\circ \\mathcal{C}' \\circ U^\\dagger$ (hopefully simpler overall).\n",
    "\n",
    "This is done by a `PhaseCircuitOptimizer`, which can be instantiated by specifying:\n",
    "\n",
    "- the original phase circuit to be optimized;\n",
    "- a topology, constraining the CX circuit used for the optimization;\n",
    "- a number of layers to use for the CX circuit."
   ]
  },
  {
   "cell_type": "code",
   "execution_count": null,
   "metadata": {},
   "outputs": [],
   "source": [
    "from pauliopt.phase import PhaseCircuitOptimizer"
   ]
  },
  {
   "cell_type": "markdown",
   "metadata": {
    "slideshow": {
     "slide_type": "subslide"
    }
   },
   "source": [
    "For our running example, we use a 3x3 grid qubit topology:"
   ]
  },
  {
   "cell_type": "code",
   "execution_count": null,
   "metadata": {},
   "outputs": [],
   "source": [
    "from pauliopt.topologies import Topology\n",
    "topology = Topology.grid(3, 3)\n",
    "topology.draw(figsize=(3, 3))"
   ]
  },
  {
   "cell_type": "markdown",
   "metadata": {
    "slideshow": {
     "slide_type": "subslide"
    }
   },
   "source": [
    "We construct a small random phase circuit on the same qubits:"
   ]
  },
  {
   "cell_type": "code",
   "execution_count": null,
   "metadata": {},
   "outputs": [],
   "source": [
    "from pauliopt.phase import PhaseCircuit, CXCircuit\n",
    "orig_circuit = PhaseCircuit.random(topology.qubits, 6, rng_seed=0)\n",
    "orig_circuit"
   ]
  },
  {
   "cell_type": "markdown",
   "metadata": {
    "slideshow": {
     "slide_type": "subslide"
    }
   },
   "source": [
    "To optimize it, we instantiate an optimizer with a single-layer CX circuit. The optional parameter `rng_seed` can be used to pass a seed to the RNG."
   ]
  },
  {
   "cell_type": "code",
   "execution_count": null,
   "metadata": {},
   "outputs": [],
   "source": [
    "num_cx_layers = 1\n",
    "opt = PhaseCircuitOptimizer(orig_circuit, topology, num_cx_layers, rng_seed=0)"
   ]
  },
  {
   "cell_type": "markdown",
   "metadata": {
    "slideshow": {
     "slide_type": "subslide"
    }
   },
   "source": [
    "The topology, its qubits and the phase gadgets in the original circuit are made available through suitably named properties of the optimizer. The original circuit is not saved directly (because it is mutable)."
   ]
  },
  {
   "cell_type": "code",
   "execution_count": null,
   "metadata": {},
   "outputs": [],
   "source": [
    "print(f\"{opt.qubits = }\", end=\"\\n\\n\")\n",
    "print(f\"{opt.topology = }\", end=\"\\n\\n\")\n",
    "print(f\"{opt.original_gadgets = }\", end=\"\\n\\n\")"
   ]
  },
  {
   "cell_type": "markdown",
   "metadata": {
    "slideshow": {
     "slide_type": "slide"
    }
   },
   "source": [
    "## Phase and CX Blocks\n",
    "\n",
    "Circuit optimization is progressive. The currently optimized circuit is in the form $U \\circ \\mathcal{C}' \\circ U^\\dagger$, where $\\mathcal{C}'$ is the **phase block** and $U$ is the **CX block**. The optimizer makes both available through suitably named properties (the phase block as a read-only view on a `PhaseCircuit`, the CX block as a read-only view on a `CXCircuit`)."
   ]
  },
  {
   "cell_type": "markdown",
   "metadata": {
    "slideshow": {
     "slide_type": "subslide"
    }
   },
   "source": [
    "At the beginning, the phase block is equal to the original circuit."
   ]
  },
  {
   "cell_type": "code",
   "execution_count": null,
   "metadata": {},
   "outputs": [],
   "source": [
    "opt.phase_block.to_svg(scale=0.8)"
   ]
  },
  {
   "cell_type": "markdown",
   "metadata": {
    "slideshow": {
     "slide_type": "subslide"
    }
   },
   "source": [
    "At the beginning, the CX block is empty (given number of layers, no CX gates)."
   ]
  },
  {
   "cell_type": "code",
   "execution_count": null,
   "metadata": {},
   "outputs": [],
   "source": [
    "opt.cx_block.draw(figsize=(3, 3))"
   ]
  },
  {
   "cell_type": "markdown",
   "metadata": {
    "slideshow": {
     "slide_type": "slide"
    }
   },
   "source": [
    "## Random CX Flips\n",
    "\n",
    "Optimization is performed by simulated annealing. Random CX gates are flipped in the CX circuit $U$ for a given number of iterations, in an attempt to reduce the complexity of the overall optimized circuit $U \\circ \\mathcal{C}' \\circ U$. The method `PhaseCircuitOptimizer.random_flip_cx()` is used to perform such a random flip: it modifies the internal phase circuit and CX circuit in place, returning information about the layer index and CX gate that was just flipped in case it has to be undone.\n",
    "\n",
    "The method `PhaseCircuitOptimizer.flip_cx(layer_idx, ctrl, trgt)` is used to perform a specific CX gate flip, while the method `PhaseCircuitOptimizer.is_cx_flippable(layer_idx, ctrl, trgt)` can be used to check if a specific flip can be performed."
   ]
  },
  {
   "cell_type": "markdown",
   "metadata": {
    "slideshow": {
     "slide_type": "subslide"
    }
   },
   "source": [
    "Here we see an example with a single random flip:"
   ]
  },
  {
   "cell_type": "code",
   "execution_count": null,
   "metadata": {
    "scrolled": false
   },
   "outputs": [],
   "source": [
    "opt = PhaseCircuitOptimizer(orig_circuit, topology, 1, rng_seed=0)\n",
    "print(\"=== Phase block and CX block before random flip ===\")\n",
    "display(opt.phase_block.to_svg(scale=0.6))\n",
    "opt.cx_block.draw(figsize=(3, 3))\n",
    "layer_idx, gate = opt.random_flip_cx()\n",
    "print(f\"\\n\\n=== Phase block and CX block after flipping gate {gate} in layer {layer_idx} ===\")\n",
    "display(opt.phase_block.to_svg(scale=0.6))\n",
    "opt.cx_block.draw(figsize=(3, 3))"
   ]
  },
  {
   "cell_type": "markdown",
   "metadata": {
    "slideshow": {
     "slide_type": "subslide"
    }
   },
   "source": [
    "Here we see another example, at the beginning and after 8 random flips:"
   ]
  },
  {
   "cell_type": "code",
   "execution_count": null,
   "metadata": {},
   "outputs": [],
   "source": [
    "opt = PhaseCircuitOptimizer(orig_circuit, topology, 1, rng_seed=0)\n",
    "print(\"=== Phase block and CX block before random flip ===\")\n",
    "display(opt.phase_block.to_svg(scale=0.6))\n",
    "opt.cx_block.draw(figsize=(3, 3))\n",
    "for _ in range(3):\n",
    "    opt.random_flip_cx()\n",
    "print(f\"\\n\\n=== Phase block and CX block after 3 random flips ===\")\n",
    "display(opt.phase_block.to_svg(scale=0.6))\n",
    "opt.cx_block.draw(figsize=(3, 3))"
   ]
  },
  {
   "cell_type": "markdown",
   "metadata": {
    "slideshow": {
     "slide_type": "slide"
    }
   },
   "source": [
    "## Annealing - Prelude\n",
    "\n",
    "Randomly flipping CX gates and hoping for the best is not much good as an optimisation strategy: simulated annealing is used instead as a global optimisation technique.\n",
    "\n",
    "The method `PhaseCircuitOptimizeranneal(num_iters, temp_schedule, cost_fun)` allows a given number of iterations of simulated annealing to be performed on the circuit, for a given temperature schedule and cost function.\n",
    "The method also accepts an optional keyword argument `loggers`, for detailed logging. "
   ]
  },
  {
   "cell_type": "markdown",
   "metadata": {
    "slideshow": {
     "slide_type": "slide"
    }
   },
   "source": [
    "## Temperature Schedule\n",
    "\n",
    "A **temperature schedule** is any function which fits the `TempSchedule` protocol below: given the index `it` of the current iteration an the total number `num_iters` of iterations, it returns the temperature (as an `int` or `float` number)."
   ]
  },
  {
   "cell_type": "code",
   "execution_count": null,
   "metadata": {},
   "outputs": [],
   "source": [
    "from typing import Protocol, Union\n",
    "Number = Union[int, float]\n",
    "class TempSchedule(Protocol):\n",
    "    \"\"\"\n",
    "        Protocol for a temperature schedule.\n",
    "        The temperature is a `number` computed from the iteration number `it`\n",
    "        (starting from 0) and the total number of iterations `num_iter`.\n",
    "    \"\"\"\n",
    "\n",
    "    def __call__(self, it: int, num_iters: int) -> Number:\n",
    "        ..."
   ]
  },
  {
   "cell_type": "markdown",
   "metadata": {
    "slideshow": {
     "slide_type": "subslide"
    }
   },
   "source": [
    "The library offers 4 utility functions `temp_schedule_maker(t_init, t_final)` that produce different standard temperature schedules (linear, geometric, reciprocal and logarithmic) given initial and final temperatures. The schedules are taken from [this paper](https://link.springer.com/article/10.1007/BF00143921)."
   ]
  },
  {
   "cell_type": "code",
   "execution_count": null,
   "metadata": {},
   "outputs": [],
   "source": [
    "from pauliopt.utils import (straight_temp_schedule, geometric_temp_schedule, \n",
    "                            reciprocal_temp_schedule, log_temp_schedule)"
   ]
  },
  {
   "cell_type": "markdown",
   "metadata": {
    "slideshow": {
     "slide_type": "subslide"
    }
   },
   "source": [
    "Here is a plot of the four temperature schedules over 100 iterations, for initial temperature 10 and final temperature 1. "
   ]
  },
  {
   "cell_type": "code",
   "execution_count": null,
   "metadata": {},
   "outputs": [],
   "source": [
    "num_iters = 100\n",
    "plt.figure(figsize=(10,5))\n",
    "for temp_schedule_maker in [straight_temp_schedule, geometric_temp_schedule, \n",
    "                            reciprocal_temp_schedule, log_temp_schedule]:\n",
    "    temp_schedule = temp_schedule_maker(t_init=10, t_final=1)\n",
    "    temp = [temp_schedule(it, num_iters) for it in range(num_iters)]\n",
    "    plt.plot(range(num_iters), temp, label=temp_schedule_maker.__name__)\n",
    "plt.legend()\n",
    "plt.show()"
   ]
  },
  {
   "cell_type": "markdown",
   "metadata": {
    "slideshow": {
     "slide_type": "subslide"
    }
   },
   "source": [
    "## Cost Function\n",
    "\n",
    "A **cost function** is any function which fits the `CostFun` protocol below: given a phase block and a CX block, it returns a cost in the form of an `int` or `float` number."
   ]
  },
  {
   "cell_type": "code",
   "execution_count": null,
   "metadata": {},
   "outputs": [],
   "source": [
    "from pauliopt.phase import PhaseCircuitView, CXCircuitView\n",
    "class CostFun(Protocol):\n",
    "    \"\"\"\n",
    "        Protocol for a cost function.\n",
    "        The cost is a `float` computed from the phase block (readonly view)\n",
    "        and CX block (readonly view) exposed by an instance of `PhaseCircuitOptimizer`.\n",
    "    \"\"\"\n",
    "\n",
    "    def __call__(self, phase_block: PhaseCircuitView, cx_block: CXCircuitView) -> Number:\n",
    "        ..."
   ]
  },
  {
   "cell_type": "markdown",
   "metadata": {
    "slideshow": {
     "slide_type": "subslide"
    }
   },
   "source": [
    "The library offers a utility function `cx_count_cost_fun(topology, circuit_rep=1)` that constructs such a cost function based on a topology and the number of times that the given circuit is going to be repeated (e.g. when the circuit is a single layer of a multi-layer ansatz).\n",
    "The cost function counts the number of CX gates necessary to implement the optimized circuit $U \\circ (\\mathcal{C}')^{circuit\\_rep} \\circ U^\\dagger$, where phase gadgets are implemented by a minimum spanning tree (MST) technique and long-range CX gates are implemented by a double-ladder of nearest neighbour CX gates ($2d-1$ NN CX gates where $d$ is the distance on the topology between control and target).\n",
    "\n",
    "The library also offers a utility function `cx_count(gadget, topology)` that produces detailed information about the CX count for a single phase gadget on a given topology using this MST technique."
   ]
  },
  {
   "cell_type": "code",
   "execution_count": null,
   "metadata": {},
   "outputs": [],
   "source": [
    "from pauliopt.phase import cx_count_cost_fun, cx_count\n",
    "# In our examples, we consider a single repetition of the circuit:\n",
    "cost_fun = cx_count_cost_fun(topology, circuit_rep=1)"
   ]
  },
  {
   "cell_type": "markdown",
   "metadata": {
    "slideshow": {
     "slide_type": "subslide"
    }
   },
   "source": [
    "To understand how the cost of a single phase gadget is computed, we consider the following example on a 3x3 grid topology."
   ]
  },
  {
   "cell_type": "code",
   "execution_count": null,
   "metadata": {},
   "outputs": [],
   "source": [
    "test_circ = PhaseCircuit.random(topology.qubits, 1, rng_seed=0)\n",
    "test_circ"
   ]
  },
  {
   "cell_type": "markdown",
   "metadata": {
    "slideshow": {
     "slide_type": "subslide"
    }
   },
   "source": [
    "The phase gadget above spans qubits `{0, 1, 5, 7, 8}`. One possible minimal spanning tree implementation involves two mirror ladders of the following CX gates (with a phase gate on qubit 7 in between):\n",
    "\n",
    "- 1 CX gate between 0 and 1 (dist: 1)\n",
    "- 3 CX gate between 1 and 5 (dist: 2)\n",
    "- 1 CX gate between 5 and 8 (dist: 1)\n",
    "- 1 CX gate between 8 and 7 (dist: 1)\n",
    "\n",
    "Each ladder has 6 CX gates, so the total CX count for the phase gadget is 12."
   ]
  },
  {
   "cell_type": "code",
   "execution_count": null,
   "metadata": {},
   "outputs": [],
   "source": [
    "test_gadget = test_circ.gadgets[0]\n",
    "cx_counts, mst = cx_count(test_gadget, topology)\n",
    "print(f\"Overall CX count for phase gadget: {sum(cx_counts)}\")\n",
    "print(f\"MST for phase gadget: {mst}\")\n",
    "print(f\"CX counts for MST edges (both ladders): {cx_counts}\")"
   ]
  },
  {
   "cell_type": "markdown",
   "metadata": {
    "slideshow": {
     "slide_type": "subslide"
    }
   },
   "source": [
    "Let's now consider a second example:"
   ]
  },
  {
   "cell_type": "code",
   "execution_count": null,
   "metadata": {},
   "outputs": [],
   "source": [
    "test_circ = PhaseCircuit.random(topology.qubits, 1, rng_seed=1)\n",
    "test_circ"
   ]
  },
  {
   "cell_type": "markdown",
   "metadata": {
    "slideshow": {
     "slide_type": "subslide"
    }
   },
   "source": [
    "The phase gadget above spans qubits `{0, 1, 2, 4, 5, 6, 8}`. One possible minimal spanning tree implementation involves two mirror ladders of the following CX gates (with a phase gate on qubit 7 in between):\n",
    "\n",
    "- 1 CX gate between 0 and 1 (dist: 1)\n",
    "- 1 CX gate between 1 and 2 (dist: 1)\n",
    "- 1 CX gate between 1 and 4 (dist: 1)\n",
    "- 1 CX gate between 2 and 5 (dist: 1)\n",
    "- 1 CX gate between 5 and 8 (dist: 1)\n",
    "- 3 CX gates between 0 and 6 (dist: 2)\n",
    "\n",
    "Each ladder has 8 CX gates, so the total CX count for the phase gadget is 16."
   ]
  },
  {
   "cell_type": "code",
   "execution_count": null,
   "metadata": {},
   "outputs": [],
   "source": [
    "test_gadget = test_circ.gadgets[0]\n",
    "cx_counts, mst = cx_count(test_gadget, topology)\n",
    "print(f\"Overall CX count for phase gadget: {sum(cx_counts)}\")\n",
    "print(f\"MST for phase gadget: {mst}\")\n",
    "print(f\"CX counts for MST edges (both ladders): {cx_counts}\")"
   ]
  },
  {
   "cell_type": "markdown",
   "metadata": {
    "slideshow": {
     "slide_type": "subslide"
    }
   },
   "source": [
    "Now let's look at an example of cost reduction in a circuit with several phase gadgets.\n",
    "Consider the example from before:"
   ]
  },
  {
   "cell_type": "code",
   "execution_count": null,
   "metadata": {
    "scrolled": false
   },
   "outputs": [],
   "source": [
    "opt = PhaseCircuitOptimizer(orig_circuit, topology, 1, rng_seed=1)\n",
    "cost = cost_fun(opt.phase_block, opt.cx_block)\n",
    "print(f\"Cost before flip: {cost}\")\n",
    "print(f\"  - Gadget CX counts: {[sum(cx_count(gadget, topology)[0]) for gadget in opt.phase_block.gadgets]}\")\n",
    "print(f\"  - CX blocks CX count: {2*opt.cx_block.num_gates}\")\n",
    "display(opt.phase_block.to_svg(scale=0.4))\n",
    "opt.cx_block.draw(figsize=(2, 2))"
   ]
  },
  {
   "cell_type": "markdown",
   "metadata": {
    "slideshow": {
     "slide_type": "subslide"
    }
   },
   "source": [
    "If we conjugate the circuit by a CX gate with control 0 and target 1, the cost changes as follows:\n",
    "\n",
    "- we remove 4 CX gates from the phase block (3rd and 5th phase gadgets lose a leg);\n",
    "- we add 2 CX gates to the CX blocks;\n",
    "\n",
    "Overall, the cost is reduced by 2. It would be reduced by `4*circuit_rep-2` in the general case."
   ]
  },
  {
   "cell_type": "code",
   "execution_count": null,
   "metadata": {},
   "outputs": [],
   "source": [
    "opt.flip_cx(0, 1, 0)\n",
    "cost = cost_fun(opt.phase_block, opt.cx_block)\n",
    "print(f\"Cost after flip: {cost}\")\n",
    "print(f\"  - Gadget CX counts: {[sum(cx_count(gadget, topology)[0]) for gadget in opt.phase_block.gadgets]}\")\n",
    "print(f\"  - CX blocks CX count: {2*opt.cx_block.num_gates}\")\n",
    "display(opt.phase_block.to_svg(scale=0.4))\n",
    "opt.cx_block.draw(figsize=(2, 2))"
   ]
  },
  {
   "cell_type": "markdown",
   "metadata": {
    "slideshow": {
     "slide_type": "subslide"
    }
   },
   "source": [
    "If we further conjugate the circuit by a CX gate with control 2 and target 5, the cost changes as follows:\n",
    "\n",
    "- we remove 4 CX gates from the phase block (3rd and 5th phase gadget lose a leg);\n",
    "- we add 2 CX gates to the phase block (4th phase gadget gains a leg);\n",
    "- we add 2 CX gates to the CX blocks;\n",
    "\n",
    "Overall, the cost is reduced by 0. It would be reduced by `2*circuit_rep-2` in the general case."
   ]
  },
  {
   "cell_type": "code",
   "execution_count": null,
   "metadata": {},
   "outputs": [],
   "source": [
    "opt.flip_cx(0, 2, 5)\n",
    "cost = cost_fun(opt.phase_block, opt.cx_block)\n",
    "print(f\"Cost after second flip: {cost}\")\n",
    "print(f\"  - Gadget CX counts: {[sum(cx_count(gadget, topology)[0]) for gadget in opt.phase_block.gadgets]}\")\n",
    "print(f\"  - CX blocks CX count: {2*opt.cx_block.num_gates}\")\n",
    "display(opt.phase_block.to_svg(scale=0.4))\n",
    "opt.cx_block.draw(figsize=(2, 2))"
   ]
  },
  {
   "cell_type": "markdown",
   "metadata": {
    "slideshow": {
     "slide_type": "slide"
    }
   },
   "source": [
    "## Annealing (to be completed)\n",
    "\n",
    "The method `PhaseCircuitOptimizeranneal(num_iters, temp_schedule, cost_fun)` allows a given number of iterations of simulated annealing to be performed on the circuit, for a given temperature schedule and cost function.\n",
    "\n",
    "The method also accepts an optional keyword argument `loggers`, for detailed logging."
   ]
  },
  {
   "cell_type": "code",
   "execution_count": null,
   "metadata": {},
   "outputs": [],
   "source": [
    "from math import log10, ceil\n",
    "def log_iter(it, prev_cost, new_cost, accepted, flip, t, num_iters):\n",
    "    if new_cost < prev_cost:\n",
    "        print(f\"Iter #{it:>0{ceil(log10(num_iters-1))}}, new cost: {new_cost}\")\n",
    "loggers = {\n",
    "    \"log_init_cost\": lambda cost, num_iters: print(f\"Init cost: {cost}\"),\n",
    "    \"log_iter\": log_iter,\n",
    "    \"log_final_cost\": lambda cost, num_iters: print(f\"Final cost: {cost}\"),\n",
    "}"
   ]
  },
  {
   "cell_type": "markdown",
   "metadata": {
    "slideshow": {
     "slide_type": "subslide"
    }
   },
   "source": [
    "..."
   ]
  },
  {
   "cell_type": "code",
   "execution_count": null,
   "metadata": {},
   "outputs": [],
   "source": [
    "num_iters = 100\n",
    "topology = Topology.grid(3, 3)\n",
    "opt = PhaseCircuitOptimizer(orig_circuit, topology, 1, rng_seed=1)\n",
    "temp_schedule = geometric_temp_schedule(t_init=1, t_final=1e-5)\n",
    "cost_fun = cx_count_cost_fun(topology, circuit_rep=1)\n",
    "opt.anneal(num_iters, temp_schedule, cost_fun, loggers=loggers)"
   ]
  },
  {
   "cell_type": "markdown",
   "metadata": {
    "slideshow": {
     "slide_type": "subslide"
    }
   },
   "source": [
    "..."
   ]
  },
  {
   "cell_type": "code",
   "execution_count": null,
   "metadata": {},
   "outputs": [],
   "source": [
    "cost = cost_fun(opt.phase_block, opt.cx_block)\n",
    "print(f\"Cost after annealing: {cost}\")\n",
    "print(f\"  - Gadget CX counts: {[sum(cx_count(gadget, topology)[0]) for gadget in opt.phase_block.gadgets]}\")\n",
    "print(f\"  - CX blocks CX count: {2*opt.cx_block.num_gates}\")\n",
    "display(opt.phase_block.to_svg(scale=0.8))\n",
    "opt.cx_block.draw(figsize=(3, 3))"
   ]
  },
  {
   "cell_type": "markdown",
   "metadata": {
    "slideshow": {
     "slide_type": "subslide"
    }
   },
   "source": [
    "..."
   ]
  },
  {
   "cell_type": "code",
   "execution_count": null,
   "metadata": {},
   "outputs": [],
   "source": [
    "num_iters = 1000\n",
    "topology = Topology.grid(3, 3)\n",
    "opt = PhaseCircuitOptimizer(orig_circuit, topology, 4, rng_seed=1)\n",
    "temp_schedule = geometric_temp_schedule(t_init=2, t_final=1e-5)\n",
    "cost_fun = cx_count_cost_fun(topology, circuit_rep=1)\n",
    "opt.anneal(num_iters, temp_schedule, cost_fun, loggers=loggers)"
   ]
  },
  {
   "cell_type": "markdown",
   "metadata": {
    "slideshow": {
     "slide_type": "subslide"
    }
   },
   "source": [
    "..."
   ]
  },
  {
   "cell_type": "code",
   "execution_count": null,
   "metadata": {},
   "outputs": [],
   "source": [
    "init_cost = cost_fun(orig_circuit, CXCircuit(topology))\n",
    "print(f\"Cost before annealing: {init_cost}\")\n",
    "print(f\"  - Gadget CX counts: {[sum(cx_count(gadget, topology)[0]) for gadget in opt.original_gadgets]}\")\n",
    "print()\n",
    "final_cost = cost_fun(opt.phase_block, opt.cx_block)\n",
    "print(f\"Cost after annealing: {final_cost} ({(final_cost-init_cost)/init_cost:.0%})\")\n",
    "print(f\"  - Gadget CX counts: {[sum(cx_count(gadget, topology)[0]) for gadget in opt.phase_block.gadgets]}\")\n",
    "print(f\"  - CX blocks CX count: {2*opt.cx_block.num_gates}\")\n",
    "display(opt.phase_block.to_svg(scale=0.8))\n",
    "opt.cx_block.draw(figsize=(3, 3))"
   ]
  },
  {
   "cell_type": "markdown",
   "metadata": {
    "slideshow": {
     "slide_type": "subslide"
    }
   },
   "source": [
    "..."
   ]
  },
  {
   "cell_type": "code",
   "execution_count": null,
   "metadata": {},
   "outputs": [],
   "source": [
    "num_iters = 1000\n",
    "topology = Topology.grid(5, 5)\n",
    "large_circuit = PhaseCircuit.random(topology.qubits, 50, min_legs=1, max_legs=3, rng_seed=0)\n",
    "opt = PhaseCircuitOptimizer(large_circuit, topology, 5, rng_seed=1)\n",
    "temp_schedule = straight_temp_schedule(t_init=1, t_final=1e-5)\n",
    "cost_fun = cx_count_cost_fun(topology, circuit_rep=5)\n",
    "opt.anneal(num_iters, temp_schedule, cost_fun, loggers=loggers)"
   ]
  },
  {
   "cell_type": "markdown",
   "metadata": {
    "slideshow": {
     "slide_type": "subslide"
    }
   },
   "source": [
    "..."
   ]
  },
  {
   "cell_type": "code",
   "execution_count": null,
   "metadata": {},
   "outputs": [],
   "source": [
    "init_cost = cost_fun(large_circuit, CXCircuit(topology))\n",
    "print(f\"Cost before annealing: {init_cost}\")\n",
    "print(f\"  - Gadget CX counts: {[sum(cx_count(gadget, topology)[0]) for gadget in opt.original_gadgets]}\")\n",
    "print()\n",
    "final_cost = cost_fun(opt.phase_block, opt.cx_block)\n",
    "print(f\"Cost after annealing: {final_cost} ({(final_cost-init_cost)/init_cost:.0%})\")\n",
    "print(f\"  - Gadget CX counts: {[sum(cx_count(gadget, topology)[0]) for gadget in opt.phase_block.gadgets]}\")\n",
    "print(f\"  - CX blocks CX count: {2*opt.cx_block.num_gates}\")\n",
    "opt.cx_block.draw(figsize=(3, 3))"
   ]
  }
 ],
 "metadata": {
  "celltoolbar": "Slideshow",
  "kernelspec": {
   "display_name": "Python 3",
   "language": "python",
   "name": "python3"
  },
  "language_info": {
   "codemirror_mode": {
    "name": "ipython",
    "version": 3
   },
   "file_extension": ".py",
   "mimetype": "text/x-python",
   "name": "python",
   "nbconvert_exporter": "python",
   "pygments_lexer": "ipython3",
   "version": "3.8.3"
  }
 },
 "nbformat": 4,
 "nbformat_minor": 4
}

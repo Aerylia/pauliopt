{
 "cells": [
  {
   "cell_type": "code",
   "execution_count": null,
   "metadata": {},
   "outputs": [],
   "source": [
    "from pauliopt.phase import PhaseCircuit, PhaseGadget, Z, X, OptimizedPhaseCircuit, CXCircuit, CXCircuitLayer\n",
    "from pauliopt.utils import pi, Angle\n",
    "from pauliopt.topologies import Topology"
   ]
  },
  {
   "cell_type": "code",
   "execution_count": null,
   "metadata": {},
   "outputs": [],
   "source": [
    "topology = Topology.line(6)\n",
    "circuit = PhaseCircuit.random(topology.num_qubits, 8, min_legs=1, max_legs=2, rng_seed=4)\n",
    "print(f\"CX Count: {circuit.cx_count(topology)}\")\n",
    "circuit"
   ]
  },
  {
   "cell_type": "code",
   "execution_count": null,
   "metadata": {},
   "outputs": [],
   "source": [
    "opt = OptimizedPhaseCircuit(circuit, topology, cx_block=3, circuit_rep=1, rng_seed=0)\n",
    "opt.anneal(1000, schedule=(\"linear\", 1, 1e-5))\n",
    "print(f\"CX Count: {opt.cx_count}\")\n",
    "opt"
   ]
  }
 ],
 "metadata": {
  "kernelspec": {
   "display_name": "Python 3",
   "language": "python",
   "name": "python3"
  },
  "language_info": {
   "codemirror_mode": {
    "name": "ipython",
    "version": 3
   },
   "file_extension": ".py",
   "mimetype": "text/x-python",
   "name": "python",
   "nbconvert_exporter": "python",
   "pygments_lexer": "ipython3",
   "version": "3.8.3"
  }
 },
 "nbformat": 4,
 "nbformat_minor": 4
}

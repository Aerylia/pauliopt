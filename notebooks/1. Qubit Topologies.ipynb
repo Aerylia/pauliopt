{
 "cells": [
  {
   "cell_type": "markdown",
   "metadata": {
    "slideshow": {
     "slide_type": "slide"
    }
   },
   "source": [
    "# Qubit Topologies"
   ]
  },
  {
   "cell_type": "markdown",
   "metadata": {
    "slideshow": {
     "slide_type": "subslide"
    }
   },
   "source": [
    "Changing working directory from `./notebooks/` to `./`, in order to import the Python packages defined in the repository."
   ]
  },
  {
   "cell_type": "code",
   "execution_count": null,
   "metadata": {},
   "outputs": [],
   "source": [
    "import os\n",
    "DEBUG = True\n",
    "try:\n",
    "    print(\"Original working directory: %s\"%str(original_wd)) # type: ignore\n",
    "    \"\"\"\n",
    "        You only get here if you---by mistake or otherwise---are re-running this cell, \n",
    "        in which case the working should not be changed again.\n",
    "    \"\"\"\n",
    "except NameError:\n",
    "    original_wd = os.getcwd()\n",
    "    os.chdir('../')\n",
    "print(\"Current working directory: %s\"%str(os.getcwd()))"
   ]
  },
  {
   "cell_type": "markdown",
   "metadata": {
    "slideshow": {
     "slide_type": "subslide"
    }
   },
   "source": [
    "General purpose imports:"
   ]
  },
  {
   "cell_type": "code",
   "execution_count": null,
   "metadata": {},
   "outputs": [],
   "source": [
    "import matplotlib.pyplot as plt\n",
    "from IPython.display import set_matplotlib_formats\n",
    "%matplotlib inline\n",
    "set_matplotlib_formats('svg')\n",
    "import qiskit"
   ]
  },
  {
   "cell_type": "markdown",
   "metadata": {
    "slideshow": {
     "slide_type": "slide"
    }
   },
   "source": [
    "## Topologies\n",
    "\n",
    "The `Topology` class can be used to construct qubit topologies. Its constructor takes a number of qubits and a variadic sequence of qubit couplings (in the form of pairs of qubits) and produces a basic undirected graph data structure, suitable for adjacency queries and graph searches. "
   ]
  },
  {
   "cell_type": "code",
   "execution_count": null,
   "metadata": {},
   "outputs": [],
   "source": [
    "from pauliopt.topologies import Topology"
   ]
  },
  {
   "cell_type": "markdown",
   "metadata": {
    "slideshow": {
     "slide_type": "subslide"
    }
   },
   "source": [
    "For example, the following topology reproduces the qubit couplings of the IBMQ Vigo machine:"
   ]
  },
  {
   "cell_type": "code",
   "execution_count": null,
   "metadata": {},
   "outputs": [],
   "source": [
    "topology = Topology(5, [[0, 1], [1, 2], [1, 3], [3, 4]])\n",
    "topology"
   ]
  },
  {
   "cell_type": "markdown",
   "metadata": {
    "slideshow": {
     "slide_type": "subslide"
    }
   },
   "source": [
    "The number of qubits of the topology can be accessed from the property `Topology.num_qubits`, while the couplings between qubits can be accessed from the property `Topology.couplings`. The property `Topology.qubits` returns the range of qubits for the topology."
   ]
  },
  {
   "cell_type": "code",
   "execution_count": null,
   "metadata": {},
   "outputs": [],
   "source": [
    "print(f\"{topology.num_qubits = }\")\n",
    "print(f\"{topology.qubits = }\")\n",
    "print(f\"{topology.couplings = }\")"
   ]
  },
  {
   "cell_type": "markdown",
   "metadata": {
    "slideshow": {
     "slide_type": "subslide"
    }
   },
   "source": [
    "The couplings are stored as unordered pairs, instances of `Coupling` (a special-purpose subclass of `frozenset`). Coupling is a bare-bones class: the only changes to frozenset are the constructor (which only accepts two distinct integers), the property `Coupling.as_pair` (which returns a pair as a `tuple` instance with elements sorted in increasing order) and changes to the `Coupling.__str__()` and `Coupling.__repr__()` magic methods:"
   ]
  },
  {
   "cell_type": "code",
   "execution_count": null,
   "metadata": {},
   "outputs": [],
   "source": [
    "from pauliopt.topologies import Coupling\n",
    "coupling = Coupling(2, 1)\n",
    "print(f\"{repr(coupling) = }\")\n",
    "print(f\"{str(coupling) = }\")\n",
    "print(f\"{coupling.as_pair = }\")"
   ]
  },
  {
   "cell_type": "markdown",
   "metadata": {
    "slideshow": {
     "slide_type": "subslide"
    }
   },
   "source": [
    "The topology gives access to the set qubits adjacent (i.e. couple) to a given qubit:"
   ]
  },
  {
   "cell_type": "code",
   "execution_count": null,
   "metadata": {},
   "outputs": [],
   "source": [
    "for q in topology.qubits:\n",
    "    print(f\"topology.adjacent({q}) = {topology.adjacent(q)}\")"
   ]
  },
  {
   "cell_type": "markdown",
   "metadata": {
    "slideshow": {
     "slide_type": "subslide"
    }
   },
   "source": [
    "For convenience, the topology also gives access to an iterator over the couplings incident to a given qubit (generated on the fly based on the adjacent qubits, rather than stored):"
   ]
  },
  {
   "cell_type": "code",
   "execution_count": null,
   "metadata": {},
   "outputs": [],
   "source": [
    "for q in topology.qubits:\n",
    "    print(f\"[*topology.incident({q})] = {[*topology.incident(q)]}\")"
   ]
  },
  {
   "cell_type": "markdown",
   "metadata": {
    "slideshow": {
     "slide_type": "subslide"
    }
   },
   "source": [
    "Topologies are immutable, comparable for equality, and hashable: "
   ]
  },
  {
   "cell_type": "code",
   "execution_count": null,
   "metadata": {},
   "outputs": [],
   "source": [
    "same_topology = Topology(5, [[0, 1], [1, 2], [1, 3], [3, 4]])\n",
    "other_topology = Topology(5, [[0, 1], [1, 2], [1, 3], [0, 4]])\n",
    "print(f\"{hash(topology) = }\")\n",
    "print(f\"{(topology == same_topology) = }\")\n",
    "print(f\"{(topology == other_topology) = }\")"
   ]
  },
  {
   "cell_type": "markdown",
   "metadata": {
    "slideshow": {
     "slide_type": "slide"
    }
   },
   "source": [
    "## Drawing Topologies with NetworkX\n",
    "\n",
    "If `networkx` is installed, topologies can be turned in to NetworkX graphs using the `Topology.to_nx` property and drawn using the `Topology.draw(**kwargs)` method:"
   ]
  },
  {
   "cell_type": "code",
   "execution_count": null,
   "metadata": {},
   "outputs": [],
   "source": [
    "topology.draw()"
   ]
  },
  {
   "cell_type": "markdown",
   "metadata": {
    "slideshow": {
     "slide_type": "subslide"
    }
   },
   "source": [
    "The `Topology.draw(**kwargs)` method accepts the following keyword arguments:\n",
    "\n",
    "- a string `layout` defining the NetworkX graph layout to use (default: `\"kamada_kawai\"`) from the available ones (exposed by the property `Topology.available_nx_layouts`);\n",
    "- an optional pair of integer `figsize` (default: `None`), passed to [`matplotlib.pyplot.figure`](https://matplotlib.org/3.1.1/api/_as_gen/matplotlib.pyplot.figure.html#matplotlib.pyplot.figure);\n",
    "- all keyword arguments from [`networkx.draw_networkx`](https://networkx.org/documentation/latest/reference/generated/networkx.drawing.nx_pylab.draw_networkx.html#networkx.drawing.nx_pylab.draw_networkx)."
   ]
  },
  {
   "cell_type": "markdown",
   "metadata": {
    "slideshow": {
     "slide_type": "slide"
    }
   },
   "source": [
    "## Special Topologies\n",
    "\n",
    "The `Topology` has several static methods to create special topologies such as lines, cycles, grids and complete topologies. "
   ]
  },
  {
   "cell_type": "code",
   "execution_count": null,
   "metadata": {
    "slideshow": {
     "slide_type": "subslide"
    }
   },
   "outputs": [],
   "source": [
    "Topology.line(5).draw()"
   ]
  },
  {
   "cell_type": "code",
   "execution_count": null,
   "metadata": {
    "slideshow": {
     "slide_type": "subslide"
    }
   },
   "outputs": [],
   "source": [
    "Topology.cycle(5).draw()"
   ]
  },
  {
   "cell_type": "code",
   "execution_count": null,
   "metadata": {
    "slideshow": {
     "slide_type": "subslide"
    }
   },
   "outputs": [],
   "source": [
    "Topology.complete(5).draw()"
   ]
  },
  {
   "cell_type": "code",
   "execution_count": null,
   "metadata": {
    "slideshow": {
     "slide_type": "subslide"
    }
   },
   "outputs": [],
   "source": [
    "Topology.grid(3,3).draw()"
   ]
  },
  {
   "cell_type": "code",
   "execution_count": null,
   "metadata": {
    "slideshow": {
     "slide_type": "subslide"
    }
   },
   "outputs": [],
   "source": [
    "Topology.periodic_grid(3,3).draw()"
   ]
  },
  {
   "cell_type": "markdown",
   "metadata": {
    "slideshow": {
     "slide_type": "slide"
    }
   },
   "source": [
    "## Qiskit Topologies\n",
    "\n",
    "If the `qiskit` library is installed, topologies can be created from Qiskit backends (resp. backend configurations), using the `Topology.from_qiskit_backend(backend)` (resp. `Topology.from_qiskit_config(config)`) method."
   ]
  },
  {
   "cell_type": "code",
   "execution_count": null,
   "metadata": {},
   "outputs": [],
   "source": [
    "import qiskit.test.mock\n",
    "vigo = qiskit.test.mock.FakeVigo()\n",
    "rochester = qiskit.test.mock.FakeRochester()"
   ]
  },
  {
   "cell_type": "code",
   "execution_count": null,
   "metadata": {
    "slideshow": {
     "slide_type": "subslide"
    }
   },
   "outputs": [],
   "source": [
    "vigo_topology = Topology.from_qiskit_backend(vigo)\n",
    "print(f\"{(topology == vigo_topology) = }\")\n",
    "vigo_topology.draw()"
   ]
  },
  {
   "cell_type": "code",
   "execution_count": null,
   "metadata": {
    "slideshow": {
     "slide_type": "subslide"
    }
   },
   "outputs": [],
   "source": [
    "Topology.from_qiskit_backend(rochester).draw(figsize=(7,7))"
   ]
  }
 ],
 "metadata": {
  "celltoolbar": "Slideshow",
  "kernelspec": {
   "display_name": "Python 3",
   "language": "python",
   "name": "python3"
  },
  "language_info": {
   "codemirror_mode": {
    "name": "ipython",
    "version": 3
   },
   "file_extension": ".py",
   "mimetype": "text/x-python",
   "name": "python",
   "nbconvert_exporter": "python",
   "pygments_lexer": "ipython3",
   "version": "3.8.3"
  }
 },
 "nbformat": 4,
 "nbformat_minor": 4
}
